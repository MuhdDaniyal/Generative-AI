{
 "cells": [
  {
   "cell_type": "markdown",
   "id": "35d9baa0",
   "metadata": {
    "id": "jkxRSYjzA1oX",
    "papermill": {
     "duration": 0.014043,
     "end_time": "2024-11-15T12:13:38.095895",
     "exception": false,
     "start_time": "2024-11-15T12:13:38.081852",
     "status": "completed"
    },
    "tags": []
   },
   "source": [
    "##### Copyright 2024 Google LLC."
   ]
  },
  {
   "cell_type": "code",
   "execution_count": 1,
   "id": "ef47a684",
   "metadata": {
    "cellView": "form",
    "execution": {
     "iopub.execute_input": "2024-11-15T12:13:38.126791Z",
     "iopub.status.busy": "2024-11-15T12:13:38.125827Z",
     "iopub.status.idle": "2024-11-15T12:13:38.131582Z",
     "shell.execute_reply": "2024-11-15T12:13:38.130600Z"
    },
    "id": "5u5OZ2ShA3BA",
    "papermill": {
     "duration": 0.023798,
     "end_time": "2024-11-15T12:13:38.133728",
     "exception": false,
     "start_time": "2024-11-15T12:13:38.109930",
     "status": "completed"
    },
    "tags": []
   },
   "outputs": [],
   "source": [
    "# @title Licensed under the Apache License, Version 2.0 (the \"License\");\n",
    "# you may not use this file except in compliance with the License.\n",
    "# You may obtain a copy of the License at\n",
    "#\n",
    "# https://www.apache.org/licenses/LICENSE-2.0\n",
    "#\n",
    "# Unless required by applicable law or agreed to in writing, software\n",
    "# distributed under the License is distributed on an \"AS IS\" BASIS,\n",
    "# WITHOUT WARRANTIES OR CONDITIONS OF ANY KIND, either express or implied.\n",
    "# See the License for the specific language governing permissions and\n",
    "# limitations under the License."
   ]
  },
  {
   "cell_type": "markdown",
   "id": "badfc788",
   "metadata": {
    "id": "csNPnkuCobmG",
    "papermill": {
     "duration": 0.013036,
     "end_time": "2024-11-15T12:13:38.160269",
     "exception": false,
     "start_time": "2024-11-15T12:13:38.147233",
     "status": "completed"
    },
    "tags": []
   },
   "source": [
    "# Day 1 - Prompting\n",
    "\n",
    "Welcome to the Kaggle 5-day Generative AI course!\n",
    "\n",
    "This notebook will show you how to get started with the Gemini API and walk you through some of the example prompts and techniques that you can also read about in the Prompting whitepaper. You don't need to read the whitepaper to use this notebook, but the papers will give you some theoretical context and background to complement this interactive notebook.\n",
    "\n",
    "\n",
    "## Before you begin\n",
    "\n",
    "In this notebook, you'll start exploring prompts and prompt parameters using the Python SDK and AI Studio. For some inspiration, you might enjoy exploring some apps that have been built using the Gemini family of models. Here are a few that we like, and we think you will too.\n",
    "\n",
    "* [TextFX](https://textfx.withgoogle.com/) is a suite of AI-powered tools for rappers, made in collaboration with Lupe Fiasco,\n",
    "* [SQL Talk](https://sql-talk-r5gdynozbq-uc.a.run.app/) shows how you can talk directly to a database using the Gemini API,\n",
    "* [NotebookLM](https://notebooklm.google/) uses Gemini models to build your own personal AI research assistant.\n",
    "\n",
    "\n",
    "## For help\n",
    "\n",
    "**Common issues are covered in the [FAQ and troubleshooting guide](https://www.kaggle.com/code/markishere/day-0-troubleshooting-and-faqs).**\n",
    "\n",
    "### A note on the Gemini API and Vertex AI\n",
    "\n",
    "In the whitepapers, most of the example code uses the Enterprise [Vertex AI platform](https://cloud.google.com/vertex-ai). In contrast, this notebook, along with the others in this series, will use the [Gemini Developer API](https://ai.google.dev/gemini-api/) and [AI Studio](https://aistudio.google.com/).\n",
    "\n",
    "Both APIs provide access to the Gemini family of models, and the code to interact with the models is very similar. Vertex provides a world-class platform for enterprises, governments and advanced users that need powerful features like data governance, ML ops and deep Google Cloud integration.\n",
    "\n",
    "AI Studio is free to use and only requires a compatible Google account to log in and get started. It is deeply integrated with the Gemini API, which comes with a generous [free tier](https://ai.google.dev/pricing) that you can use to run the code in these exercises.\n",
    "\n",
    "If you are already set up with Google Cloud, you can check out the [Enterprise Gemini API](https://cloud.google.com/vertex-ai/generative-ai/docs/model-reference/inference) through Vertex AI, and run the samples directly from the supplied whitepapers."
   ]
  },
  {
   "attachments": {
    "d8299597-f771-4195-ac94-1d6f658ef2bd.png": {
     "image/png": "[encoded data removed]"
    },
    "ed25e346-2e15-4ab0-bc22-503eb1845e66.png": {
     "image/png": "[encoded data removed]"
    }
   },
   "cell_type": "markdown",
   "id": "dc3593af",
   "metadata": {
    "id": "f00ea7c99e44",
    "papermill": {
     "duration": 0.012949,
     "end_time": "2024-11-15T12:13:38.186568",
     "exception": false,
     "start_time": "2024-11-15T12:13:38.173619",
     "status": "completed"
    },
    "tags": []
   },
   "source": [
    "## Get started with Kaggle notebooks\n",
    "\n",
    "If this is your first time using a Kaggle notebook, welcome! You can read about how to use Kaggle notebooks [in the docs](https://www.kaggle.com/docs/notebooks).\n",
    "\n",
    "First, you will need to phone verify your account at kaggle.com/settings.\n",
    "\n",
    "![](https://storage.googleapis.com/kaggle-media/Images/5dgai_0.png)"
   ]
  },
  {
   "cell_type": "markdown",
   "id": "63a651d3",
   "metadata": {
    "papermill": {
     "duration": 0.013164,
     "end_time": "2024-11-15T12:13:38.213379",
     "exception": false,
     "start_time": "2024-11-15T12:13:38.200215",
     "status": "completed"
    },
    "tags": []
   },
   "source": [
    "To run this notebook, as well as the others in this course, you will need to make a copy, or fork, the notebook. Look for the `Copy and Edit` button in the top-right, and **click it** to make an editable, private copy of the notebook. It should look like this one:\n",
    "\n",
    "![Copy and Edit button](https://storage.googleapis.com/kaggle-media/Images/5gdai_sc_1.png)\n",
    "\n",
    "Your copy will now have a ▶️ **Run** button next to each code cell that you can press to execute that cell. These notebooks are expected to be run in order from top-to-bottom, but you are encouraged to add new cells, run your own code and explore. If you get stuck, you can try the `Factory reset` option in the `Run` menu, or head back to the original notebook and make a fresh copy.\n",
    "\n",
    "![Run cell button](https://storage.googleapis.com/kaggle-media/Images/5gdai_sc_2.png)\n",
    "\n",
    "### Problems?\n",
    "\n",
    "If you have any problems, head over to the [Kaggle Discord](https://discord.com/invite/kaggle), find the [`#5dgai-q-and-a` channel](https://discord.com/channels/1101210829807956100/1303438695143178251) and ask for help."
   ]
  },
  {
   "cell_type": "markdown",
   "id": "95e32ce0",
   "metadata": {
    "id": "ExkOXcPxtTb5",
    "papermill": {
     "duration": 0.012926,
     "end_time": "2024-11-15T12:13:38.239647",
     "exception": false,
     "start_time": "2024-11-15T12:13:38.226721",
     "status": "completed"
    },
    "tags": []
   },
   "source": [
    "## Get started with the Gemini API\n",
    "\n",
    "All of the exercises in this notebook will use the [Gemini API](https://ai.google.dev/gemini-api/) by way of the [Python SDK](https://pypi.org/project/google-generativeai/). Each of these prompts can be accessed directly in [Google AI Studio](https://aistudio.google.com/) too, so if you would rather use a web interface and skip the code for this activity, look for the <img src=\"https://ai.google.dev/site-assets/images/marketing/home/icon-ais.png\" style=\"height: 24px\" height=24/> AI Studio link on each prompt."
   ]
  },
  {
   "cell_type": "markdown",
   "id": "640d4f00",
   "metadata": {
    "papermill": {
     "duration": 0.013438,
     "end_time": "2024-11-15T12:13:38.266350",
     "exception": false,
     "start_time": "2024-11-15T12:13:38.252912",
     "status": "completed"
    },
    "tags": []
   },
   "source": [
    "Next, you will need to add your API key to your Kaggle Notebook as a Kaggle User Secret.\n",
    "\n",
    "![](https://storage.googleapis.com/kaggle-media/Images/5dgai_1.png)\n",
    "![](https://storage.googleapis.com/kaggle-media/Images/5dgai_2.png)\n",
    "![](https://storage.googleapis.com/kaggle-media/Images/5dgai_3.png)\n",
    "![](https://storage.googleapis.com/kaggle-media/Images/5dgai_4.png)"
   ]
  },
  {
   "cell_type": "markdown",
   "id": "dc973891",
   "metadata": {
    "id": "UAjUV3BsvFXQ",
    "papermill": {
     "duration": 0.012832,
     "end_time": "2024-11-15T12:13:38.292267",
     "exception": false,
     "start_time": "2024-11-15T12:13:38.279435",
     "status": "completed"
    },
    "tags": []
   },
   "source": [
    "### Install the SDK"
   ]
  },
  {
   "cell_type": "code",
   "execution_count": 2,
   "id": "3949a3fa",
   "metadata": {
    "execution": {
     "iopub.execute_input": "2024-11-15T12:13:38.319937Z",
     "iopub.status.busy": "2024-11-15T12:13:38.319522Z",
     "iopub.status.idle": "2024-11-15T12:14:08.989314Z",
     "shell.execute_reply": "2024-11-15T12:14:08.987845Z"
    },
    "id": "NzwzJFU9LqkJ",
    "papermill": {
     "duration": 30.698546,
     "end_time": "2024-11-15T12:14:09.003875",
     "exception": false,
     "start_time": "2024-11-15T12:13:38.305329",
     "status": "completed"
    },
    "tags": []
   },
   "outputs": [
    {
     "name": "stdout",
     "output_type": "stream",
     "text": [
      "Note: you may need to restart the kernel to use updated packages.\n"
     ]
    }
   ],
   "source": [
    "%pip install -U -q \"google-generativeai>=0.8.3\""
   ]
  },
  {
   "cell_type": "markdown",
   "id": "614ae3fb",
   "metadata": {
    "papermill": {
     "duration": 0.014097,
     "end_time": "2024-11-15T12:14:09.033638",
     "exception": false,
     "start_time": "2024-11-15T12:14:09.019541",
     "status": "completed"
    },
    "tags": []
   },
   "source": [
    "You do not need to restart the kernel."
   ]
  },
  {
   "cell_type": "code",
   "execution_count": 3,
   "id": "ec662b1f",
   "metadata": {
    "execution": {
     "iopub.execute_input": "2024-11-15T12:14:09.062941Z",
     "iopub.status.busy": "2024-11-15T12:14:09.061949Z",
     "iopub.status.idle": "2024-11-15T12:14:10.243698Z",
     "shell.execute_reply": "2024-11-15T12:14:10.242705Z"
    },
    "id": "5DwxYIRavMST",
    "papermill": {
     "duration": 1.199141,
     "end_time": "2024-11-15T12:14:10.246195",
     "exception": false,
     "start_time": "2024-11-15T12:14:09.047054",
     "status": "completed"
    },
    "tags": []
   },
   "outputs": [],
   "source": [
    "import google.generativeai as genai\n",
    "from IPython.display import HTML, Markdown, display"
   ]
  },
  {
   "cell_type": "markdown",
   "id": "8616346a",
   "metadata": {
    "id": "DNEt2BCOvOJ1",
    "papermill": {
     "duration": 0.013653,
     "end_time": "2024-11-15T12:14:10.273210",
     "exception": false,
     "start_time": "2024-11-15T12:14:10.259557",
     "status": "completed"
    },
    "tags": []
   },
   "source": [
    "### Set up your API key\n",
    "\n",
    "To run the following cell, your API key must be stored it in a [Kaggle secret](https://www.kaggle.com/discussions/product-feedback/114053) named `GOOGLE_API_KEY`.\n",
    "\n",
    "If you don't already have an API key, you can grab one from [AI Studio](https://aistudio.google.com/app/apikey). You can find [detailed instructions in the docs](https://ai.google.dev/gemini-api/docs/api-key).\n",
    "\n",
    "To make the key available through Kaggle secrets, choose `Secrets` from the `Add-ons` menu and follow the instructions to add your key or enable it for this notebook."
   ]
  },
  {
   "cell_type": "code",
   "execution_count": 4,
   "id": "1508baff",
   "metadata": {
    "execution": {
     "iopub.execute_input": "2024-11-15T12:14:10.302198Z",
     "iopub.status.busy": "2024-11-15T12:14:10.301316Z",
     "iopub.status.idle": "2024-11-15T12:14:10.562597Z",
     "shell.execute_reply": "2024-11-15T12:14:10.561574Z"
    },
    "id": "SHl0bkPCvayd",
    "papermill": {
     "duration": 0.278571,
     "end_time": "2024-11-15T12:14:10.565133",
     "exception": false,
     "start_time": "2024-11-15T12:14:10.286562",
     "status": "completed"
    },
    "tags": []
   },
   "outputs": [],
   "source": [
    "from kaggle_secrets import UserSecretsClient\n",
    "\n",
    "GOOGLE_API_KEY = UserSecretsClient().get_secret(\"GOOGLE_API_KEY\")\n",
    "genai.configure(api_key=GOOGLE_API_KEY)"
   ]
  },
  {
   "attachments": {
    "d2be9aab-2527-48af-b6cf-1f06cdd7c3a7.png": {
     "image/png": "[encoded data removed]"
    }
   },
   "cell_type": "markdown",
   "id": "d52d781a",
   "metadata": {
    "id": "4e720472fd86",
    "papermill": {
     "duration": 0.013171,
     "end_time": "2024-11-15T12:14:10.592304",
     "exception": false,
     "start_time": "2024-11-15T12:14:10.579133",
     "status": "completed"
    },
    "tags": []
   },
   "source": [
    "If you received an error response along the lines of `No user secrets exist for kernel id ...`, then you need to add your API key via `Add-ons`, `Secrets` **and** enable it.\n",
    "\n",
    "![Screenshot of the checkbox to enable GOOGLE_API_KEY secret](https://storage.googleapis.com/kaggle-media/Images/5gdai_sc_3.png)"
   ]
  },
  {
   "cell_type": "markdown",
   "id": "f4e7354f",
   "metadata": {
    "id": "H_YXCYIKvyZJ",
    "papermill": {
     "duration": 0.013054,
     "end_time": "2024-11-15T12:14:10.618720",
     "exception": false,
     "start_time": "2024-11-15T12:14:10.605666",
     "status": "completed"
    },
    "tags": []
   },
   "source": [
    "### Run your first prompt\n",
    "\n",
    "In this step, you will test that your API key is set up correctly by making a request. The `gemini-1.5-flash` model has been selected here."
   ]
  },
  {
   "cell_type": "code",
   "execution_count": 5,
   "id": "27b7df8b",
   "metadata": {
    "execution": {
     "iopub.execute_input": "2024-11-15T12:14:10.647002Z",
     "iopub.status.busy": "2024-11-15T12:14:10.646626Z",
     "iopub.status.idle": "2024-11-15T12:14:12.379346Z",
     "shell.execute_reply": "2024-11-15T12:14:12.378208Z"
    },
    "id": "BV1o0PmcvyJF",
    "papermill": {
     "duration": 1.749702,
     "end_time": "2024-11-15T12:14:12.381749",
     "exception": false,
     "start_time": "2024-11-15T12:14:10.632047",
     "status": "completed"
    },
    "tags": []
   },
   "outputs": [
    {
     "name": "stdout",
     "output_type": "stream",
     "text": [
      "Imagine you have a really smart robot friend. This robot can learn things just like you, but much faster! \n",
      "\n",
      "That's kind of what AI, or Artificial Intelligence, is. It's like a computer brain that can learn and solve problems. It's like giving a computer a big toolbox of knowledge and tools, and then letting it figure out how to use them!\n",
      "\n",
      "Here's how it works:\n",
      "\n",
      "* **Learning:** AI learns from lots of data, like pictures, words, and numbers. It's like showing the robot lots of different examples so it can understand what things look like, what things mean, and how to do things.\n",
      "* **Thinking:** AI can use its knowledge to think and solve problems. It can figure out patterns, make predictions, and even create things!\n",
      "* **Helping us:** AI helps us in many ways. It can help doctors diagnose diseases, drive cars safely, and even write stories!\n",
      "\n",
      "Think of it like this:  AI is like a super smart friend who helps us do amazing things.  It's like magic, but it's actually just really smart computers! \n",
      "\n"
     ]
    }
   ],
   "source": [
    "flash = genai.GenerativeModel('gemini-1.5-flash')\n",
    "response = flash.generate_content(\"Explain AI to me like I'm a kid.\")\n",
    "print(response.text)"
   ]
  },
  {
   "cell_type": "markdown",
   "id": "b5a29762",
   "metadata": {
    "id": "f60ed9d8ae41",
    "papermill": {
     "duration": 0.01328,
     "end_time": "2024-11-15T12:14:12.408707",
     "exception": false,
     "start_time": "2024-11-15T12:14:12.395427",
     "status": "completed"
    },
    "tags": []
   },
   "source": [
    "The response often comes back in markdown format, which you can render directly in this notebook."
   ]
  },
  {
   "cell_type": "code",
   "execution_count": 6,
   "id": "3d65953c",
   "metadata": {
    "execution": {
     "iopub.execute_input": "2024-11-15T12:14:12.437826Z",
     "iopub.status.busy": "2024-11-15T12:14:12.437412Z",
     "iopub.status.idle": "2024-11-15T12:14:12.445762Z",
     "shell.execute_reply": "2024-11-15T12:14:12.444702Z"
    },
    "id": "c933e5e460a5",
    "papermill": {
     "duration": 0.025677,
     "end_time": "2024-11-15T12:14:12.448089",
     "exception": false,
     "start_time": "2024-11-15T12:14:12.422412",
     "status": "completed"
    },
    "tags": []
   },
   "outputs": [
    {
     "data": {
      "text/markdown": [
       "Imagine you have a really smart robot friend. This robot can learn things just like you, but much faster! \n",
       "\n",
       "That's kind of what AI, or Artificial Intelligence, is. It's like a computer brain that can learn and solve problems. It's like giving a computer a big toolbox of knowledge and tools, and then letting it figure out how to use them!\n",
       "\n",
       "Here's how it works:\n",
       "\n",
       "* **Learning:** AI learns from lots of data, like pictures, words, and numbers. It's like showing the robot lots of different examples so it can understand what things look like, what things mean, and how to do things.\n",
       "* **Thinking:** AI can use its knowledge to think and solve problems. It can figure out patterns, make predictions, and even create things!\n",
       "* **Helping us:** AI helps us in many ways. It can help doctors diagnose diseases, drive cars safely, and even write stories!\n",
       "\n",
       "Think of it like this:  AI is like a super smart friend who helps us do amazing things.  It's like magic, but it's actually just really smart computers! \n"
      ],
      "text/plain": [
       "<IPython.core.display.Markdown object>"
      ]
     },
     "execution_count": 6,
     "metadata": {},
     "output_type": "execute_result"
    }
   ],
   "source": [
    "Markdown(response.text)"
   ]
  },
  {
   "cell_type": "markdown",
   "id": "ba255649",
   "metadata": {
    "id": "byx0pT9ZMW2Q",
    "papermill": {
     "duration": 0.013587,
     "end_time": "2024-11-15T12:14:12.475424",
     "exception": false,
     "start_time": "2024-11-15T12:14:12.461837",
     "status": "completed"
    },
    "tags": []
   },
   "source": [
    "### Start a chat\n",
    "\n",
    "The previous example uses a single-turn, text-in/text-out structure, but you can also set up a multi-turn chat structure too."
   ]
  },
  {
   "cell_type": "code",
   "execution_count": 7,
   "id": "a63c09a4",
   "metadata": {
    "execution": {
     "iopub.execute_input": "2024-11-15T12:14:12.504680Z",
     "iopub.status.busy": "2024-11-15T12:14:12.503962Z",
     "iopub.status.idle": "2024-11-15T12:14:13.078391Z",
     "shell.execute_reply": "2024-11-15T12:14:13.077206Z"
    },
    "id": "lV_S5ZL5MidD",
    "papermill": {
     "duration": 0.591616,
     "end_time": "2024-11-15T12:14:13.080730",
     "exception": false,
     "start_time": "2024-11-15T12:14:12.489114",
     "status": "completed"
    },
    "tags": []
   },
   "outputs": [
    {
     "name": "stdout",
     "output_type": "stream",
     "text": [
      "Hello Zlork! It's nice to meet you. 😊 What can I do for you today?  \n",
      "\n"
     ]
    }
   ],
   "source": [
    "chat = flash.start_chat(history=[])\n",
    "response = chat.send_message('Hello! My name is Zlork.')\n",
    "print(response.text)"
   ]
  },
  {
   "cell_type": "code",
   "execution_count": 8,
   "id": "a5f5a981",
   "metadata": {
    "execution": {
     "iopub.execute_input": "2024-11-15T12:14:13.110670Z",
     "iopub.status.busy": "2024-11-15T12:14:13.109987Z",
     "iopub.status.idle": "2024-11-15T12:14:14.339611Z",
     "shell.execute_reply": "2024-11-15T12:14:14.338178Z"
    },
    "id": "7b0372c3c64a",
    "papermill": {
     "duration": 1.24725,
     "end_time": "2024-11-15T12:14:14.341936",
     "exception": false,
     "start_time": "2024-11-15T12:14:13.094686",
     "status": "completed"
    },
    "tags": []
   },
   "outputs": [
    {
     "name": "stdout",
     "output_type": "stream",
     "text": [
      "Okay, Zlork, here's a fascinating dino fact:\n",
      "\n",
      "**Did you know that some dinosaurs had feathers?** \n",
      "\n",
      "This wasn't just a few, either! We now know that many dinosaur species had feathers, from the iconic *Triceratops* to the fearsome *Tyrannosaurus Rex*. \n",
      "\n",
      "These feathers weren't always for flying.  Some dinosaurs used them for insulation, display, and even for attracting mates. \n",
      "\n",
      "This discovery changed our understanding of dinosaurs, showing that they were far more diverse and complex than we originally thought. \n",
      "\n",
      "Do you want to know more about feathered dinosaurs, or would you like to explore a different dino fact?  \n",
      "\n"
     ]
    }
   ],
   "source": [
    "response = chat.send_message('Can you tell something interesting about dinosaurs?')\n",
    "print(response.text)"
   ]
  },
  {
   "cell_type": "code",
   "execution_count": 9,
   "id": "b047e9a8",
   "metadata": {
    "execution": {
     "iopub.execute_input": "2024-11-15T12:14:14.372610Z",
     "iopub.status.busy": "2024-11-15T12:14:14.371837Z",
     "iopub.status.idle": "2024-11-15T12:14:15.666083Z",
     "shell.execute_reply": "2024-11-15T12:14:15.665003Z"
    },
    "id": "d3f9591392a7",
    "papermill": {
     "duration": 1.312353,
     "end_time": "2024-11-15T12:14:15.668435",
     "exception": false,
     "start_time": "2024-11-15T12:14:14.356082",
     "status": "completed"
    },
    "tags": []
   },
   "outputs": [
    {
     "name": "stdout",
     "output_type": "stream",
     "text": [
      "Of course I remember! Your name is Zlork!  😊 \n",
      "\n",
      "I'm trying my best to be a good conversationalist, and that includes remembering the names of the people I'm talking to.  \n",
      "\n",
      "What else can I help you with, Zlork? \n",
      "\n"
     ]
    }
   ],
   "source": [
    "# While you have the `chat` object around, the conversation state\n",
    "# persists. Confirm that by asking if it knows my name.\n",
    "response = chat.send_message('Do you remember what my name is?')\n",
    "print(response.text)"
   ]
  },
  {
   "cell_type": "markdown",
   "id": "39ba6eb2",
   "metadata": {
    "id": "2KAjpr1200sW",
    "papermill": {
     "duration": 0.013934,
     "end_time": "2024-11-15T12:14:15.696604",
     "exception": false,
     "start_time": "2024-11-15T12:14:15.682670",
     "status": "completed"
    },
    "tags": []
   },
   "source": [
    "### Choose a model\n",
    "\n",
    "The Gemini API provides access to a number of models from the Gemini model family. Read about the available models and their capabilities on the [model overview page](https://ai.google.dev/gemini-api/docs/models/gemini).\n",
    "\n",
    "In this step you'll use the API to list all of the available models."
   ]
  },
  {
   "cell_type": "code",
   "execution_count": 10,
   "id": "3c85aaf8",
   "metadata": {
    "execution": {
     "iopub.execute_input": "2024-11-15T12:14:15.726807Z",
     "iopub.status.busy": "2024-11-15T12:14:15.726363Z",
     "iopub.status.idle": "2024-11-15T12:14:16.518609Z",
     "shell.execute_reply": "2024-11-15T12:14:16.517565Z"
    },
    "id": "uUUZa2uq2jDm",
    "papermill": {
     "duration": 0.810312,
     "end_time": "2024-11-15T12:14:16.521240",
     "exception": false,
     "start_time": "2024-11-15T12:14:15.710928",
     "status": "completed"
    },
    "tags": []
   },
   "outputs": [
    {
     "name": "stdout",
     "output_type": "stream",
     "text": [
      "models/chat-bison-001\n",
      "models/text-bison-001\n",
      "models/embedding-gecko-001\n",
      "models/gemini-1.0-pro-latest\n",
      "models/gemini-1.0-pro\n",
      "models/gemini-pro\n",
      "models/gemini-1.0-pro-001\n",
      "models/gemini-1.0-pro-vision-latest\n",
      "models/gemini-pro-vision\n",
      "models/gemini-1.5-pro-latest\n",
      "models/gemini-1.5-pro-001\n",
      "models/gemini-1.5-pro-002\n",
      "models/gemini-1.5-pro\n",
      "models/gemini-1.5-pro-exp-0801\n",
      "models/gemini-1.5-pro-exp-0827\n",
      "models/gemini-1.5-flash-latest\n",
      "models/gemini-1.5-flash-001\n",
      "models/gemini-1.5-flash-001-tuning\n",
      "models/gemini-1.5-flash\n",
      "models/gemini-1.5-flash-exp-0827\n",
      "models/gemini-1.5-flash-002\n",
      "models/gemini-1.5-flash-8b\n",
      "models/gemini-1.5-flash-8b-001\n",
      "models/gemini-1.5-flash-8b-latest\n",
      "models/gemini-1.5-flash-8b-exp-0827\n",
      "models/gemini-1.5-flash-8b-exp-0924\n",
      "models/embedding-001\n",
      "models/text-embedding-004\n",
      "models/aqa\n"
     ]
    }
   ],
   "source": [
    "for model in genai.list_models():\n",
    "  print(model.name)"
   ]
  },
  {
   "cell_type": "markdown",
   "id": "45f60063",
   "metadata": {
    "id": "rN49kSI54R1v",
    "papermill": {
     "duration": 0.013645,
     "end_time": "2024-11-15T12:14:16.548947",
     "exception": false,
     "start_time": "2024-11-15T12:14:16.535302",
     "status": "completed"
    },
    "tags": []
   },
   "source": [
    "The [`models.list`](https://ai.google.dev/api/models#method:-models.list) response also returns additional information about the model's capabilities, like the token limits and supported parameters."
   ]
  },
  {
   "cell_type": "code",
   "execution_count": 11,
   "id": "09b2b357",
   "metadata": {
    "execution": {
     "iopub.execute_input": "2024-11-15T12:14:16.578549Z",
     "iopub.status.busy": "2024-11-15T12:14:16.578135Z",
     "iopub.status.idle": "2024-11-15T12:14:16.832073Z",
     "shell.execute_reply": "2024-11-15T12:14:16.830918Z"
    },
    "id": "k7JJ1K6j4Rl8",
    "papermill": {
     "duration": 0.271621,
     "end_time": "2024-11-15T12:14:16.834643",
     "exception": false,
     "start_time": "2024-11-15T12:14:16.563022",
     "status": "completed"
    },
    "tags": []
   },
   "outputs": [
    {
     "name": "stdout",
     "output_type": "stream",
     "text": [
      "Model(name='models/gemini-1.5-flash',\n",
      "      base_model_id='',\n",
      "      version='001',\n",
      "      display_name='Gemini 1.5 Flash',\n",
      "      description='Fast and versatile multimodal model for scaling across diverse tasks',\n",
      "      input_token_limit=1000000,\n",
      "      output_token_limit=8192,\n",
      "      supported_generation_methods=['generateContent', 'countTokens'],\n",
      "      temperature=1.0,\n",
      "      max_temperature=2.0,\n",
      "      top_p=0.95,\n",
      "      top_k=40)\n"
     ]
    }
   ],
   "source": [
    "for model in genai.list_models():\n",
    "  if model.name == 'models/gemini-1.5-flash':\n",
    "    print(model)\n",
    "    break"
   ]
  },
  {
   "cell_type": "markdown",
   "id": "51944cc1",
   "metadata": {
    "id": "5rU_UBlZdooM",
    "papermill": {
     "duration": 0.014095,
     "end_time": "2024-11-15T12:14:16.863297",
     "exception": false,
     "start_time": "2024-11-15T12:14:16.849202",
     "status": "completed"
    },
    "tags": []
   },
   "source": [
    "## Explore generation parameters\n",
    "\n"
   ]
  },
  {
   "cell_type": "markdown",
   "id": "b831709f",
   "metadata": {
    "id": "G7NfEizeipbW",
    "papermill": {
     "duration": 0.013844,
     "end_time": "2024-11-15T12:14:16.891529",
     "exception": false,
     "start_time": "2024-11-15T12:14:16.877685",
     "status": "completed"
    },
    "tags": []
   },
   "source": [
    "### Output length\n",
    "\n",
    "When generating text with an LLM, the output length affects cost and performance. Generating more tokens increases computation, leading to higher energy consumption, latency, and cost.\n",
    "\n",
    "To stop the model from generating tokens past a limit, you can specify the `max_output_tokens` parameter when using the Gemini API. Specifying this parameter does not influence the generation of the output tokens, so the output will not become more stylistically or textually succinct, but it will stop generating tokens once the specified length is reached. Prompt engineering may be required to generate a more complete output for your given limit."
   ]
  },
  {
   "cell_type": "code",
   "execution_count": 12,
   "id": "e91454cb",
   "metadata": {
    "execution": {
     "iopub.execute_input": "2024-11-15T12:14:16.921836Z",
     "iopub.status.busy": "2024-11-15T12:14:16.921466Z",
     "iopub.status.idle": "2024-11-15T12:14:18.384272Z",
     "shell.execute_reply": "2024-11-15T12:14:18.383062Z"
    },
    "id": "qVf23JsIi9ma",
    "papermill": {
     "duration": 1.480955,
     "end_time": "2024-11-15T12:14:18.386715",
     "exception": false,
     "start_time": "2024-11-15T12:14:16.905760",
     "status": "completed"
    },
    "tags": []
   },
   "outputs": [
    {
     "name": "stdout",
     "output_type": "stream",
     "text": [
      "## The Olive: A Timeless Staple, a Modern Treasure\n",
      "\n",
      "The olive, a small, unassuming fruit, has played a vital role in human history, culture, and sustenance for millennia. From ancient civilizations to modern societies, the olive has not only provided nourishment but has also become a symbol of peace, prosperity, and culinary excellence. While its significance in the ancient world is undeniable, the olive continues to hold profound importance in modern society, impacting economies, health, and cultural traditions.\n",
      "\n",
      "The olive's first and foremost contribution to modern society is its role as a staple food. Cultivated for over 6,000 years, olive oil remains a primary source of dietary fat in many cultures. Its unique flavor profile, rich in monounsaturated fatty acids, makes it a heart-healthy alternative to other oils, contributing to a balanced and nutritious diet. This is particularly important in the modern world, where concerns about obesity and cardiovascular disease are increasing. Furthermore, olive oil serves as a\n"
     ]
    }
   ],
   "source": [
    "short_model = genai.GenerativeModel(\n",
    "    'gemini-1.5-flash',\n",
    "    generation_config=genai.GenerationConfig(max_output_tokens=200))\n",
    "\n",
    "response = short_model.generate_content('Write a 1000 word essay on the importance of olives in modern society.')\n",
    "print(response.text)"
   ]
  },
  {
   "cell_type": "code",
   "execution_count": 13,
   "id": "7bcb59fc",
   "metadata": {
    "execution": {
     "iopub.execute_input": "2024-11-15T12:14:18.417358Z",
     "iopub.status.busy": "2024-11-15T12:14:18.416600Z",
     "iopub.status.idle": "2024-11-15T12:14:19.543965Z",
     "shell.execute_reply": "2024-11-15T12:14:19.542675Z"
    },
    "id": "W-3kR2F5kdMR",
    "papermill": {
     "duration": 1.145546,
     "end_time": "2024-11-15T12:14:19.546591",
     "exception": false,
     "start_time": "2024-11-15T12:14:18.401045",
     "status": "completed"
    },
    "tags": []
   },
   "outputs": [
    {
     "name": "stdout",
     "output_type": "stream",
     "text": [
      "A tiny fruit, with skin of green or black,\n",
      "A symbol of the Mediterranean's track.\n",
      "From ancient groves to modern pantry shelf,\n",
      "The olive reigns, a treasure for itself.\n",
      "\n",
      "A source of oil, so rich and pure and bright,\n",
      "For salads, dips, and culinary delight.\n",
      "A savory snack, a taste both bold and deep,\n",
      "In every bite, a story it does keep.\n",
      "\n",
      "From ancient gods to modern plates it's found,\n",
      "A staple food, on fertile, sun-kissed ground.\n",
      "The olive thrives, a gift from nature's hand,\n",
      "A vital part of our global, modern land. \n",
      "\n"
     ]
    }
   ],
   "source": [
    "response = short_model.generate_content('Write a short poem on the importance of olives in modern society.')\n",
    "print(response.text)"
   ]
  },
  {
   "cell_type": "markdown",
   "id": "cc551efb",
   "metadata": {
    "id": "3ZhDSLB6lqqB",
    "papermill": {
     "duration": 0.014211,
     "end_time": "2024-11-15T12:14:19.575601",
     "exception": false,
     "start_time": "2024-11-15T12:14:19.561390",
     "status": "completed"
    },
    "tags": []
   },
   "source": [
    "Explore with your own prompts. Try a prompt with a restrictive output limit and then adjust the prompt to work within that limit."
   ]
  },
  {
   "cell_type": "code",
   "execution_count": 14,
   "id": "e84b6136",
   "metadata": {
    "execution": {
     "iopub.execute_input": "2024-11-15T12:14:19.606663Z",
     "iopub.status.busy": "2024-11-15T12:14:19.605576Z",
     "iopub.status.idle": "2024-11-15T12:14:20.126088Z",
     "shell.execute_reply": "2024-11-15T12:14:20.124630Z"
    },
    "papermill": {
     "duration": 0.538695,
     "end_time": "2024-11-15T12:14:20.128679",
     "exception": false,
     "start_time": "2024-11-15T12:14:19.589984",
     "status": "completed"
    },
    "tags": []
   },
   "outputs": [
    {
     "name": "stdout",
     "output_type": "stream",
     "text": [
      "The choice between using an API and accessing a model directly depends on the specific situation and your needs. Here's a breakdown\n"
     ]
    }
   ],
   "source": [
    "short_model = genai.GenerativeModel(\n",
    "    'gemini-1.5-flash',\n",
    "    generation_config=genai.GenerationConfig(max_output_tokens=25))\n",
    "\n",
    "response = short_model.generate_content('What do you think of using API vs model itself')\n",
    "print(response.text)"
   ]
  },
  {
   "cell_type": "markdown",
   "id": "0112cacb",
   "metadata": {
    "id": "alx-WaAvir_9",
    "papermill": {
     "duration": 0.014345,
     "end_time": "2024-11-15T12:14:20.157629",
     "exception": false,
     "start_time": "2024-11-15T12:14:20.143284",
     "status": "completed"
    },
    "tags": []
   },
   "source": [
    "### Temperature\n",
    "\n",
    "Temperature controls the degree of randomness in token selection. Higher temperatures result in a higher number of candidate tokens from which the next output token is selected, and can produce more diverse results, while lower temperatures have the opposite effect, such that a temperature of 0 results in greedy decoding, selecting the most probable token at each step.\n",
    "\n",
    "Temperature doesn't provide any guarantees of randomness, but it can be used to \"nudge\" the output somewhat.\n",
    "\n",
    "**Note that if you see a 429 Resource Exhausted error here, you may be able to edit the words in the prompt slightly to progress.**"
   ]
  },
  {
   "cell_type": "code",
   "execution_count": 15,
   "id": "143b0e06",
   "metadata": {
    "execution": {
     "iopub.execute_input": "2024-11-15T12:14:20.188407Z",
     "iopub.status.busy": "2024-11-15T12:14:20.187981Z",
     "iopub.status.idle": "2024-11-15T12:14:23.306941Z",
     "shell.execute_reply": "2024-11-15T12:14:23.305726Z"
    },
    "id": "SHraGMzqnZqt",
    "papermill": {
     "duration": 3.137271,
     "end_time": "2024-11-15T12:14:23.309469",
     "exception": false,
     "start_time": "2024-11-15T12:14:20.172198",
     "status": "completed"
    },
    "tags": []
   },
   "outputs": [
    {
     "name": "stdout",
     "output_type": "stream",
     "text": [
      "Purple. \n",
      " -------------------------\n",
      "Purple \n",
      " -------------------------\n",
      "Indigo \n",
      " -------------------------\n",
      "Blue \n",
      " -------------------------\n",
      "Purple. \n",
      " -------------------------\n"
     ]
    }
   ],
   "source": [
    "from google.api_core import retry\n",
    "\n",
    "high_temp_model = genai.GenerativeModel(\n",
    "    'gemini-1.5-flash',\n",
    "    generation_config=genai.GenerationConfig(temperature=2.0))\n",
    "\n",
    "\n",
    "# When running lots of queries, it's a good practice to use a retry policy so your code\n",
    "# automatically retries when hitting Resource Exhausted (quota limit) errors.\n",
    "retry_policy = {\n",
    "    \"retry\": retry.Retry(predicate=retry.if_transient_error, initial=10, multiplier=1.5, timeout=300)\n",
    "}\n",
    "\n",
    "for _ in range(5):\n",
    "  response = high_temp_model.generate_content('Pick a random colour... (respond in a single word)',\n",
    "                                              request_options=retry_policy)\n",
    "  if response.parts:\n",
    "    print(response.text, '-' * 25)"
   ]
  },
  {
   "cell_type": "markdown",
   "id": "65500bba",
   "metadata": {
    "id": "z3J4pCTuof7e",
    "papermill": {
     "duration": 0.014779,
     "end_time": "2024-11-15T12:14:23.339382",
     "exception": false,
     "start_time": "2024-11-15T12:14:23.324603",
     "status": "completed"
    },
    "tags": []
   },
   "source": [
    "Now try the same prompt with temperature set to zero. Note that the output is not completely deterministic, as other parameters affect token selection, but the results will tend to be more stable."
   ]
  },
  {
   "cell_type": "code",
   "execution_count": 16,
   "id": "a7e80850",
   "metadata": {
    "execution": {
     "iopub.execute_input": "2024-11-15T12:14:23.370804Z",
     "iopub.status.busy": "2024-11-15T12:14:23.370428Z",
     "iopub.status.idle": "2024-11-15T12:14:25.546213Z",
     "shell.execute_reply": "2024-11-15T12:14:25.545183Z"
    },
    "id": "clymkWv-PfUZ",
    "papermill": {
     "duration": 2.194624,
     "end_time": "2024-11-15T12:14:25.548937",
     "exception": false,
     "start_time": "2024-11-15T12:14:23.354313",
     "status": "completed"
    },
    "tags": []
   },
   "outputs": [
    {
     "name": "stdout",
     "output_type": "stream",
     "text": [
      "Purple \n",
      " -------------------------\n",
      "Purple \n",
      " -------------------------\n",
      "Purple \n",
      " -------------------------\n",
      "Purple \n",
      " -------------------------\n",
      "Purple \n",
      " -------------------------\n"
     ]
    }
   ],
   "source": [
    "low_temp_model = genai.GenerativeModel(\n",
    "    'gemini-1.5-flash',\n",
    "    generation_config=genai.GenerationConfig(temperature=0.0))\n",
    "\n",
    "for _ in range(5):\n",
    "  response = low_temp_model.generate_content('Pick a random colour... (respond in a single word)',\n",
    "                                             request_options=retry_policy)\n",
    "  if response.parts:\n",
    "    print(response.text, '-' * 25)"
   ]
  },
  {
   "cell_type": "markdown",
   "id": "8e70045c",
   "metadata": {
    "id": "St5nt3vzitsZ",
    "papermill": {
     "duration": 0.014947,
     "end_time": "2024-11-15T12:14:25.579342",
     "exception": false,
     "start_time": "2024-11-15T12:14:25.564395",
     "status": "completed"
    },
    "tags": []
   },
   "source": [
    "### Top-K and top-P\n",
    "\n",
    "Like temperature, top-K and top-P parameters are also used to control the diversity of the model's output.\n",
    "\n",
    "Top-K is a positive integer that defines the number of most probable tokens from which to select the output token. A top-K of 1 selects a single token, performing greedy decoding.\n",
    "\n",
    "Top-P defines the probability threshold that, once cumulatively exceeded, tokens stop being selected as candidates. A top-P of 0 is typically equivalent to greedy decoding, and a top-P of 1 typically selects every token in the model's vocabulary.\n",
    "\n",
    "When both are supplied, the Gemini API will filter top-K tokens first, then top-P and then finally sample from the candidate tokens using the supplied temperature.\n",
    "\n",
    "Run this example a number of times, change the settings and observe the change in output."
   ]
  },
  {
   "cell_type": "code",
   "execution_count": 17,
   "id": "99ca109b",
   "metadata": {
    "execution": {
     "iopub.execute_input": "2024-11-15T12:14:25.611304Z",
     "iopub.status.busy": "2024-11-15T12:14:25.610888Z",
     "iopub.status.idle": "2024-11-15T12:14:31.762220Z",
     "shell.execute_reply": "2024-11-15T12:14:31.760873Z"
    },
    "id": "lPlzpEavUV8F",
    "papermill": {
     "duration": 6.171133,
     "end_time": "2024-11-15T12:14:31.765597",
     "exception": false,
     "start_time": "2024-11-15T12:14:25.594464",
     "status": "completed"
    },
    "tags": []
   },
   "outputs": [
    {
     "name": "stdout",
     "output_type": "stream",
     "text": [
      "Bartholomew, a sleek black cat with eyes like polished emeralds, was bored. His usual routine of sunbathing, napping, and demanding belly rubs had lost its charm.  He yearned for something more, something...adventurous.\n",
      "\n",
      "One afternoon, while watching a particularly riveting documentary about a brave explorer scaling Mount Everest, Bartholomew had an epiphany. He would be an explorer too!  He carefully studied the map of his human's apartment, marking a route that led from his comfy bed, through the living room, over the coffee table, and finally, into the forbidden territory of the kitchen.\n",
      "\n",
      "The journey was fraught with peril. The living room rug, usually a soft haven, became a treacherous obstacle course with its treacherous, fluffy bumps. The coffee table, usually a staging ground for his elaborate hunting expeditions of dust bunnies, loomed like a formidable mountain.  But Bartholomew persevered, his emerald eyes blazing with determination.\n",
      "\n",
      "Finally, he reached the kitchen, a land of tantalizing smells and tempting treats.  There, on the counter, sat a bowl of glistening tuna, an irresistible beacon of adventure.  He carefully scaled the counter, using a strategically placed loaf of bread as a stepladder. He feasted on the tuna, savoring each bite like a seasoned explorer conquering a foreign land.\n",
      "\n",
      "The satisfaction of the culinary conquest, however, was quickly replaced by a gnawing fear. He was stuck!  He couldn't climb down, the counter was too high, and the human was away, leaving Bartholomew alone in his kitchen kingdom.\n",
      "\n",
      "Just then, a soft, furry creature appeared from the shadows, a scruffy terrier with a friendly face. He was the human's dog, a playful and loyal companion, but one Bartholomew usually avoided.  With a resigned sigh, Bartholomew explained his predicament, his tail swishing in distress.\n",
      "\n",
      "The terrier, a gentle soul, grinned. He had a solution. He hopped onto the counter, grabbed the loaf of bread with his teeth, and gently lowered it to the floor.  Bartholomew, with a grateful meow, jumped down.\n",
      "\n",
      "The adventure was over, but not without its lessons. Bartholomew had conquered his fear, discovered new culinary heights, and learned that even the most unexpected creatures could be allies in a time of need. He went back to his routine, but this time, he sunbathed with a newfound confidence, his emerald eyes reflecting not only the sunshine, but also the thrill of a daring adventure. He was, after all, Bartholomew the Explorer.  \n",
      "\n"
     ]
    }
   ],
   "source": [
    "model = genai.GenerativeModel(\n",
    "    'gemini-1.5-flash-001',\n",
    "    generation_config=genai.GenerationConfig(\n",
    "        # These are the default values for gemini-1.5-flash-001.\n",
    "        temperature=1.0,\n",
    "        top_k=20,\n",
    "        top_p=0.95,\n",
    "    ))\n",
    "\n",
    "story_prompt = \"You are a creative writer. Write a short story about a cat who goes on an adventure.\"\n",
    "response = model.generate_content(story_prompt, request_options=retry_policy)\n",
    "print(response.text)"
   ]
  },
  {
   "cell_type": "markdown",
   "id": "6732bc37",
   "metadata": {
    "id": "rMrYs1koY6DX",
    "papermill": {
     "duration": 0.018445,
     "end_time": "2024-11-15T12:14:31.807855",
     "exception": false,
     "start_time": "2024-11-15T12:14:31.789410",
     "status": "completed"
    },
    "tags": []
   },
   "source": [
    "## Prompting\n",
    "\n",
    "This section contains some prompts from the chapter for you to try out directly in the API. Try changing the text here to see how each prompt performs with different instructions, more examples, or any other changes you can think of."
   ]
  },
  {
   "cell_type": "markdown",
   "id": "121a10ef",
   "metadata": {
    "id": "hhj_tQidZJP7",
    "papermill": {
     "duration": 0.015235,
     "end_time": "2024-11-15T12:14:31.838480",
     "exception": false,
     "start_time": "2024-11-15T12:14:31.823245",
     "status": "completed"
    },
    "tags": []
   },
   "source": [
    "### Zero-shot\n",
    "\n",
    "Zero-shot prompts are prompts that describe the request for the model directly.\n",
    "\n",
    "<table align=left>\n",
    "  <td>\n",
    "    <a target=\"_blank\" href=\"https://aistudio.google.com/prompts/1gzKKgDHwkAvexG5Up0LMtl1-6jKMKe4g\"><img src=\"https://ai.google.dev/site-assets/images/marketing/home/icon-ais.png\" style=\"height: 24px\" height=24/> Open in AI Studio</a>\n",
    "  </td>\n",
    "</table>"
   ]
  },
  {
   "cell_type": "code",
   "execution_count": 18,
   "id": "eb26c734",
   "metadata": {
    "execution": {
     "iopub.execute_input": "2024-11-15T12:14:31.872002Z",
     "iopub.status.busy": "2024-11-15T12:14:31.871123Z",
     "iopub.status.idle": "2024-11-15T12:15:01.181927Z",
     "shell.execute_reply": "2024-11-15T12:15:01.180752Z"
    },
    "id": "1_t-cwnDZzbH",
    "papermill": {
     "duration": 29.33032,
     "end_time": "2024-11-15T12:15:01.184444",
     "exception": false,
     "start_time": "2024-11-15T12:14:31.854124",
     "status": "completed"
    },
    "tags": []
   },
   "outputs": [
    {
     "name": "stdout",
     "output_type": "stream",
     "text": [
      "Sentiment: **POSITIVE**\n"
     ]
    }
   ],
   "source": [
    "model = genai.GenerativeModel(\n",
    "    'gemini-1.5-flash-001',\n",
    "    generation_config=genai.GenerationConfig(\n",
    "        temperature=0.1,\n",
    "        top_p=1,\n",
    "        max_output_tokens=5,\n",
    "    ))\n",
    "\n",
    "zero_shot_prompt = \"\"\"Classify movie reviews as POSITIVE, NEUTRAL or NEGATIVE.\n",
    "Review: \"Her\" is a disturbing study revealing the direction\n",
    "humanity is headed if AI is allowed to keep evolving,\n",
    "unchecked. I wish there were more movies like this masterpiece.\n",
    "Sentiment: \"\"\"\n",
    "\n",
    "response = model.generate_content(zero_shot_prompt, request_options=retry_policy)\n",
    "print(response.text)"
   ]
  },
  {
   "cell_type": "markdown",
   "id": "411e0ff5",
   "metadata": {
    "id": "3b5568bdeb11",
    "papermill": {
     "duration": 0.016214,
     "end_time": "2024-11-15T12:15:01.216450",
     "exception": false,
     "start_time": "2024-11-15T12:15:01.200236",
     "status": "completed"
    },
    "tags": []
   },
   "source": [
    "#### Enum mode\n",
    "\n",
    "The models are trained to generate text, and can sometimes produce more text than you may wish for. In the preceding example, the model will output the label, sometimes it can include a preceding \"Sentiment\" label, and without an output token limit, it may also add explanatory text afterwards.\n",
    "\n",
    "The Gemini API has an [Enum mode](https://github.com/google-gemini/cookbook/blob/main/quickstarts/Enum.ipynb) feature that allows you to constrain the output to a fixed set of values."
   ]
  },
  {
   "cell_type": "code",
   "execution_count": 19,
   "id": "c98e048c",
   "metadata": {
    "execution": {
     "iopub.execute_input": "2024-11-15T12:15:01.252131Z",
     "iopub.status.busy": "2024-11-15T12:15:01.251250Z",
     "iopub.status.idle": "2024-11-15T12:15:01.894351Z",
     "shell.execute_reply": "2024-11-15T12:15:01.893100Z"
    },
    "id": "ad118a56c598",
    "papermill": {
     "duration": 0.662678,
     "end_time": "2024-11-15T12:15:01.896928",
     "exception": false,
     "start_time": "2024-11-15T12:15:01.234250",
     "status": "completed"
    },
    "tags": []
   },
   "outputs": [
    {
     "name": "stdout",
     "output_type": "stream",
     "text": [
      "positive\n"
     ]
    }
   ],
   "source": [
    "import enum\n",
    "\n",
    "class Sentiment(enum.Enum):\n",
    "    POSITIVE = \"positive\"\n",
    "    NEUTRAL = \"neutral\"\n",
    "    NEGATIVE = \"negative\"\n",
    "\n",
    "\n",
    "model = genai.GenerativeModel(\n",
    "    'gemini-1.5-flash-001',\n",
    "    generation_config=genai.GenerationConfig(\n",
    "        response_mime_type=\"text/x.enum\",\n",
    "        response_schema=Sentiment\n",
    "    ))\n",
    "\n",
    "response = model.generate_content(zero_shot_prompt, request_options=retry_policy)\n",
    "print(response.text)"
   ]
  },
  {
   "cell_type": "markdown",
   "id": "224ba956",
   "metadata": {
    "id": "0udiSwNbv45W",
    "papermill": {
     "duration": 0.016817,
     "end_time": "2024-11-15T12:15:01.929531",
     "exception": false,
     "start_time": "2024-11-15T12:15:01.912714",
     "status": "completed"
    },
    "tags": []
   },
   "source": [
    "### One-shot and few-shot\n",
    "\n",
    "Providing an example of the expected response is known as a \"one-shot\" prompt. When you provide multiple examples, it is a \"few-shot\" prompt.\n",
    "\n",
    "<table align=left>\n",
    "  <td>\n",
    "    <a target=\"_blank\" href=\"https://aistudio.google.com/prompts/1jjWkjUSoMXmLvMJ7IzADr_GxHPJVV2bg\"><img src=\"https://ai.google.dev/site-assets/images/marketing/home/icon-ais.png\" style=\"height: 24px\" height=24/> Open in AI Studio</a>\n",
    "  </td>\n",
    "</table>\n"
   ]
  },
  {
   "cell_type": "code",
   "execution_count": 20,
   "id": "8027c73d",
   "metadata": {
    "execution": {
     "iopub.execute_input": "2024-11-15T12:15:01.963095Z",
     "iopub.status.busy": "2024-11-15T12:15:01.962646Z",
     "iopub.status.idle": "2024-11-15T12:15:02.524434Z",
     "shell.execute_reply": "2024-11-15T12:15:02.523354Z"
    },
    "id": "hd4mVUukwOKZ",
    "papermill": {
     "duration": 0.581903,
     "end_time": "2024-11-15T12:15:02.526982",
     "exception": false,
     "start_time": "2024-11-15T12:15:01.945079",
     "status": "completed"
    },
    "tags": []
   },
   "outputs": [
    {
     "name": "stdout",
     "output_type": "stream",
     "text": [
      "```json\n",
      "{\n",
      "\"size\": \"large\",\n",
      "\"type\": \"normal\",\n",
      "\"ingredients\": [\"cheese\", \"pineapple\"]\n",
      "}\n",
      "``` \n",
      "\n"
     ]
    }
   ],
   "source": [
    "model = genai.GenerativeModel(\n",
    "    'gemini-1.5-flash-latest',\n",
    "    generation_config=genai.GenerationConfig(\n",
    "        temperature=0.1,\n",
    "        top_p=1,\n",
    "        max_output_tokens=250,\n",
    "    ))\n",
    "\n",
    "few_shot_prompt = \"\"\"Parse a customer's pizza order into valid JSON:\n",
    "\n",
    "EXAMPLE:\n",
    "I want a small pizza with cheese, tomato sauce, and pepperoni.\n",
    "JSON Response:\n",
    "```\n",
    "{\n",
    "\"size\": \"small\",\n",
    "\"type\": \"normal\",\n",
    "\"ingredients\": [\"cheese\", \"tomato sauce\", \"peperoni\"]\n",
    "}\n",
    "```\n",
    "\n",
    "EXAMPLE:\n",
    "Can I get a large pizza with tomato sauce, basil and mozzarella\n",
    "JSON Response:\n",
    "```\n",
    "{\n",
    "\"size\": \"large\",\n",
    "\"type\": \"normal\",\n",
    "\"ingredients\": [\"tomato sauce\", \"basil\", \"mozzarella\"]\n",
    "}\n",
    "\n",
    "ORDER:\n",
    "\"\"\"\n",
    "\n",
    "customer_order = \"Give me a large with cheese & pineapple\"\n",
    "\n",
    "\n",
    "response = model.generate_content([few_shot_prompt, customer_order], request_options=retry_policy)\n",
    "print(response.text)"
   ]
  },
  {
   "cell_type": "markdown",
   "id": "1d8bb547",
   "metadata": {
    "id": "021293096f08",
    "papermill": {
     "duration": 0.015328,
     "end_time": "2024-11-15T12:15:02.558316",
     "exception": false,
     "start_time": "2024-11-15T12:15:02.542988",
     "status": "completed"
    },
    "tags": []
   },
   "source": [
    "#### JSON mode\n",
    "\n",
    "To provide control over the schema, and to ensure that you only receive JSON (with no other text or markdown), you can use the Gemini API's [JSON mode](https://github.com/google-gemini/cookbook/blob/main/quickstarts/JSON_mode.ipynb). This forces the model to constrain decoding, such that token selection is guided by the supplied schema."
   ]
  },
  {
   "cell_type": "code",
   "execution_count": 21,
   "id": "ad276045",
   "metadata": {
    "execution": {
     "iopub.execute_input": "2024-11-15T12:15:02.591259Z",
     "iopub.status.busy": "2024-11-15T12:15:02.590529Z",
     "iopub.status.idle": "2024-11-15T12:15:03.173694Z",
     "shell.execute_reply": "2024-11-15T12:15:03.172436Z"
    },
    "id": "50fbf0260912",
    "papermill": {
     "duration": 0.602634,
     "end_time": "2024-11-15T12:15:03.176344",
     "exception": false,
     "start_time": "2024-11-15T12:15:02.573710",
     "status": "completed"
    },
    "tags": []
   },
   "outputs": [
    {
     "name": "stdout",
     "output_type": "stream",
     "text": [
      "{\"ingredients\": [\"apple\", \"chocolate\"], \"size\": \"large\", \"type\": \"dessert\"}\n",
      "\n"
     ]
    }
   ],
   "source": [
    "import typing_extensions as typing\n",
    "\n",
    "class PizzaOrder(typing.TypedDict):\n",
    "    size: str\n",
    "    ingredients: list[str]\n",
    "    type: str\n",
    "\n",
    "\n",
    "model = genai.GenerativeModel(\n",
    "    'gemini-1.5-flash-latest',\n",
    "    generation_config=genai.GenerationConfig(\n",
    "        temperature=0.1,\n",
    "        response_mime_type=\"application/json\",\n",
    "        response_schema=PizzaOrder,\n",
    "    ))\n",
    "\n",
    "response = model.generate_content(\"Can I have a large dessert pizza with apple and chocolate\")\n",
    "print(response.text)"
   ]
  },
  {
   "cell_type": "markdown",
   "id": "949bca92",
   "metadata": {
    "id": "4a93e338e57c",
    "papermill": {
     "duration": 0.016113,
     "end_time": "2024-11-15T12:15:03.208788",
     "exception": false,
     "start_time": "2024-11-15T12:15:03.192675",
     "status": "completed"
    },
    "tags": []
   },
   "source": [
    "### Chain of Thought (CoT)\n",
    "\n",
    "Direct prompting on LLMs can return answers quickly and (in terms of output token usage) efficiently, but they can be prone to hallucination. The answer may \"look\" correct (in terms of language and syntax) but is incorrect in terms of factuality and reasoning.\n",
    "\n",
    "Chain-of-Thought prompting is a technique where you instruct the model to output intermediate reasoning steps, and it typically gets better results, especially when combined with few-shot examples. It is worth noting that this technique doesn't completely eliminate hallucinations, and that it tends to cost more to run, due to the increased token count.\n",
    "\n",
    "As models like the Gemini family are trained to be \"chatty\" and provide reasoning steps, you can ask the model to be more direct in the prompt."
   ]
  },
  {
   "cell_type": "code",
   "execution_count": 22,
   "id": "3da414a6",
   "metadata": {
    "execution": {
     "iopub.execute_input": "2024-11-15T12:15:03.242962Z",
     "iopub.status.busy": "2024-11-15T12:15:03.242556Z",
     "iopub.status.idle": "2024-11-15T12:15:03.757101Z",
     "shell.execute_reply": "2024-11-15T12:15:03.755816Z"
    },
    "id": "5715555db1c1",
    "papermill": {
     "duration": 0.535258,
     "end_time": "2024-11-15T12:15:03.759821",
     "exception": false,
     "start_time": "2024-11-15T12:15:03.224563",
     "status": "completed"
    },
    "tags": []
   },
   "outputs": [
    {
     "name": "stdout",
     "output_type": "stream",
     "text": [
      "47 \n",
      "\n"
     ]
    }
   ],
   "source": [
    "prompt = \"\"\"When I was 4 years old, my partner was 3 times my age. Now, I\n",
    "am 20 years old. How old is my partner? Return the answer directly.\"\"\"\n",
    "\n",
    "model = genai.GenerativeModel('gemini-1.5-flash-latest')\n",
    "response = model.generate_content(prompt, request_options=retry_policy)\n",
    "\n",
    "print(response.text)"
   ]
  },
  {
   "cell_type": "markdown",
   "id": "842d96b1",
   "metadata": {
    "id": "e12b19677bfd",
    "papermill": {
     "duration": 0.016957,
     "end_time": "2024-11-15T12:15:03.793220",
     "exception": false,
     "start_time": "2024-11-15T12:15:03.776263",
     "status": "completed"
    },
    "tags": []
   },
   "source": [
    "Now try the same approach, but indicate to the model that it should \"think step by step\"."
   ]
  },
  {
   "cell_type": "code",
   "execution_count": 23,
   "id": "7cd592e0",
   "metadata": {
    "execution": {
     "iopub.execute_input": "2024-11-15T12:15:03.834062Z",
     "iopub.status.busy": "2024-11-15T12:15:03.833589Z",
     "iopub.status.idle": "2024-11-15T12:15:04.738525Z",
     "shell.execute_reply": "2024-11-15T12:15:04.737097Z"
    },
    "id": "ffd7536a481f",
    "papermill": {
     "duration": 0.927474,
     "end_time": "2024-11-15T12:15:04.740994",
     "exception": false,
     "start_time": "2024-11-15T12:15:03.813520",
     "status": "completed"
    },
    "tags": []
   },
   "outputs": [
    {
     "name": "stdout",
     "output_type": "stream",
     "text": [
      "Here's how to solve this:\n",
      "\n",
      "* **When you were 4:** Your partner was 3 times your age, which is 4 * 3 = 12 years old.\n",
      "* **Age difference:** The age difference between you and your partner is 12 - 4 = 8 years.\n",
      "* **Current age:** You are now 20 years old.\n",
      "* **Partner's age:** Since the age difference remains the same, your partner is now 20 + 8 = 28 years old. \n",
      "\n",
      "**Therefore, your partner is 28 years old.** \n",
      "\n"
     ]
    }
   ],
   "source": [
    "prompt = \"\"\"When I was 4 years old, my partner was 3 times my age. Now,\n",
    "I am 20 years old. How old is my partner? Let's think step by step.\"\"\"\n",
    "\n",
    "response = model.generate_content(prompt, request_options=retry_policy)\n",
    "print(response.text)"
   ]
  },
  {
   "cell_type": "markdown",
   "id": "94caad21",
   "metadata": {
    "id": "oiLgBQJj0V53",
    "papermill": {
     "duration": 0.017174,
     "end_time": "2024-11-15T12:15:04.774050",
     "exception": false,
     "start_time": "2024-11-15T12:15:04.756876",
     "status": "completed"
    },
    "tags": []
   },
   "source": [
    "### ReAct: Reason and act\n",
    "\n",
    "In this example you will run a ReAct prompt directly in the Gemini API and perform the searching steps yourself. As this prompt follows a well-defined structure, there are frameworks available that wrap the prompt into easier-to-use APIs that make tool calls automatically, such as the LangChain example from the chapter.\n",
    "\n",
    "To try this out with the Wikipedia search engine, check out the [Searching Wikipedia with ReAct](https://github.com/google-gemini/cookbook/blob/main/examples/Search_Wikipedia_using_ReAct.ipynb) cookbook example.\n",
    "\n",
    "\n",
    "> Note: The prompt and in-context examples used here are from [https://github.com/ysymyth/ReAct](https://github.com/ysymyth/ReAct) which is published under a [MIT license](https://opensource.org/licenses/MIT), Copyright (c) 2023 Shunyu Yao.\n",
    "\n",
    "<table align=left>\n",
    "  <td>\n",
    "    <a target=\"_blank\" href=\"https://aistudio.google.com/prompts/18oo63Lwosd-bQ6Ay51uGogB3Wk3H8XMO\"><img src=\"https://ai.google.dev/site-assets/images/marketing/home/icon-ais.png\" style=\"height: 24px\" height=24/> Open in AI Studio</a>\n",
    "  </td>\n",
    "</table>\n"
   ]
  },
  {
   "cell_type": "code",
   "execution_count": 24,
   "id": "4dda8ef0",
   "metadata": {
    "execution": {
     "iopub.execute_input": "2024-11-15T12:15:04.809870Z",
     "iopub.status.busy": "2024-11-15T12:15:04.809160Z",
     "iopub.status.idle": "2024-11-15T12:15:04.816134Z",
     "shell.execute_reply": "2024-11-15T12:15:04.815099Z"
    },
    "id": "cBgyNJ5z0VSs",
    "papermill": {
     "duration": 0.027551,
     "end_time": "2024-11-15T12:15:04.818242",
     "exception": false,
     "start_time": "2024-11-15T12:15:04.790691",
     "status": "completed"
    },
    "tags": []
   },
   "outputs": [],
   "source": [
    "model_instructions = \"\"\"\n",
    "Solve a question answering task with interleaving Thought, Action, Observation steps. Thought can reason about the current situation,\n",
    "Observation is understanding relevant information from an Action's output and Action can be one of three types:\n",
    " (1) <search>entity</search>, which searches the exact entity on Wikipedia and returns the first paragraph if it exists. If not, it\n",
    "     will return some similar entities to search and you can try to search the information from those topics.\n",
    " (2) <lookup>keyword</lookup>, which returns the next sentence containing keyword in the current context. This only does exact matches,\n",
    "     so keep your searches short.\n",
    " (3) <finish>answer</finish>, which returns the answer and finishes the task.\n",
    "\"\"\"\n",
    "\n",
    "example1 = \"\"\"Question\n",
    "Musician and satirist Allie Goertz wrote a song about the \"The Simpsons\" character Milhouse, who Matt Groening named after who?\n",
    "\n",
    "Thought 1\n",
    "The question simplifies to \"The Simpsons\" character Milhouse is named after who. I only need to search Milhouse and find who it is named after.\n",
    "\n",
    "Action 1\n",
    "<search>Milhouse</search>\n",
    "\n",
    "Observation 1\n",
    "Milhouse Mussolini Van Houten is a recurring character in the Fox animated television series The Simpsons voiced by Pamela Hayden and created by Matt Groening.\n",
    "\n",
    "Thought 2\n",
    "The paragraph does not tell who Milhouse is named after, maybe I can look up \"named after\".\n",
    "\n",
    "Action 2\n",
    "<lookup>named after</lookup>\n",
    "\n",
    "Observation 2\n",
    "Milhouse was named after U.S. president Richard Nixon, whose middle name was Milhous.\n",
    "\n",
    "Thought 3\n",
    "Milhouse was named after U.S. president Richard Nixon, so the answer is Richard Nixon.\n",
    "\n",
    "Action 3\n",
    "<finish>Richard Nixon</finish>\n",
    "\"\"\"\n",
    "\n",
    "example2 = \"\"\"Question\n",
    "What is the elevation range for the area that the eastern sector of the Colorado orogeny extends into?\n",
    "\n",
    "Thought 1\n",
    "I need to search Colorado orogeny, find the area that the eastern sector of the Colorado orogeny extends into, then find the elevation range of the area.\n",
    "\n",
    "Action 1\n",
    "<search>Colorado orogeny</search>\n",
    "\n",
    "Observation 1\n",
    "The Colorado orogeny was an episode of mountain building (an orogeny) in Colorado and surrounding areas.\n",
    "\n",
    "Thought 2\n",
    "It does not mention the eastern sector. So I need to look up eastern sector.\n",
    "\n",
    "Action 2\n",
    "<lookup>eastern sector</lookup>\n",
    "\n",
    "Observation 2\n",
    "The eastern sector extends into the High Plains and is called the Central Plains orogeny.\n",
    "\n",
    "Thought 3\n",
    "The eastern sector of Colorado orogeny extends into the High Plains. So I need to search High Plains and find its elevation range.\n",
    "\n",
    "Action 3\n",
    "<search>High Plains</search>\n",
    "\n",
    "Observation 3\n",
    "High Plains refers to one of two distinct land regions\n",
    "\n",
    "Thought 4\n",
    "I need to instead search High Plains (United States).\n",
    "\n",
    "Action 4\n",
    "<search>High Plains (United States)</search>\n",
    "\n",
    "Observation 4\n",
    "The High Plains are a subregion of the Great Plains. From east to west, the High Plains rise in elevation from around 1,800 to 7,000 ft (550 to 2,130m).\n",
    "\n",
    "Thought 5\n",
    "High Plains rise in elevation from around 1,800 to 7,000 ft, so the answer is 1,800 to 7,000 ft.\n",
    "\n",
    "Action 5\n",
    "<finish>1,800 to 7,000 ft</finish>\n",
    "\"\"\"\n",
    "\n",
    "# Come up with more examples yourself, or take a look through https://github.com/ysymyth/ReAct/"
   ]
  },
  {
   "cell_type": "markdown",
   "id": "ff06a0f3",
   "metadata": {
    "id": "C3wbfstjTgey",
    "papermill": {
     "duration": 0.015425,
     "end_time": "2024-11-15T12:15:04.849467",
     "exception": false,
     "start_time": "2024-11-15T12:15:04.834042",
     "status": "completed"
    },
    "tags": []
   },
   "source": [
    "To capture a single step at a time, while ignoring any hallucinated Observation steps, you will use `stop_sequences` to end the generation process. The steps are `Thought`, `Action`, `Observation`, in that order."
   ]
  },
  {
   "cell_type": "code",
   "execution_count": 25,
   "id": "c5529691",
   "metadata": {
    "execution": {
     "iopub.execute_input": "2024-11-15T12:15:04.886675Z",
     "iopub.status.busy": "2024-11-15T12:15:04.886282Z",
     "iopub.status.idle": "2024-11-15T12:15:07.823374Z",
     "shell.execute_reply": "2024-11-15T12:15:07.822206Z"
    },
    "id": "8mxrXRkRTdXm",
    "papermill": {
     "duration": 2.95922,
     "end_time": "2024-11-15T12:15:07.826263",
     "exception": false,
     "start_time": "2024-11-15T12:15:04.867043",
     "status": "completed"
    },
    "tags": []
   },
   "outputs": [
    {
     "name": "stdout",
     "output_type": "stream",
     "text": [
      "Thought 1\n",
      "I need to find the transformers NLP paper and then look for the authors' ages to determine the youngest author.\n",
      "\n",
      "Action 1\n",
      "<search>transformers NLP paper</search>\n",
      "\n"
     ]
    }
   ],
   "source": [
    "question = \"\"\"Question\n",
    "Who was the youngest author listed on the transformers NLP paper?\n",
    "\"\"\"\n",
    "\n",
    "model = genai.GenerativeModel('gemini-1.5-flash-latest')\n",
    "react_chat = model.start_chat()\n",
    "\n",
    "# You will perform the Action, so generate up to, but not including, the Observation.\n",
    "config = genai.GenerationConfig(stop_sequences=[\"\\nObservation\"])\n",
    "\n",
    "resp = react_chat.send_message(\n",
    "    [model_instructions, example1, example2, question],\n",
    "    generation_config=config,\n",
    "    request_options=retry_policy)\n",
    "print(resp.text)"
   ]
  },
  {
   "cell_type": "markdown",
   "id": "437d0f5c",
   "metadata": {
    "id": "aW2PIdLbVv3l",
    "papermill": {
     "duration": 0.015457,
     "end_time": "2024-11-15T12:15:07.857778",
     "exception": false,
     "start_time": "2024-11-15T12:15:07.842321",
     "status": "completed"
    },
    "tags": []
   },
   "source": [
    "Now you can perform this research yourself and supply it back to the model."
   ]
  },
  {
   "cell_type": "code",
   "execution_count": 26,
   "id": "0d33893e",
   "metadata": {
    "execution": {
     "iopub.execute_input": "2024-11-15T12:15:07.890915Z",
     "iopub.status.busy": "2024-11-15T12:15:07.890549Z",
     "iopub.status.idle": "2024-11-15T12:15:08.784398Z",
     "shell.execute_reply": "2024-11-15T12:15:08.783341Z"
    },
    "id": "mLMc0DZaV9g2",
    "papermill": {
     "duration": 0.912985,
     "end_time": "2024-11-15T12:15:08.786615",
     "exception": false,
     "start_time": "2024-11-15T12:15:07.873630",
     "status": "completed"
    },
    "tags": []
   },
   "outputs": [
    {
     "name": "stdout",
     "output_type": "stream",
     "text": [
      "Thought 2\n",
      "The Observation does not mention the authors' ages. I need to search the authors individually to find their age.\n",
      "\n",
      "Action 2\n",
      "<search>Ashish Vaswani</search>\n",
      "\n"
     ]
    }
   ],
   "source": [
    "observation = \"\"\"Observation 1\n",
    "[1706.03762] Attention Is All You Need\n",
    "Ashish Vaswani, Noam Shazeer, Niki Parmar, Jakob Uszkoreit, Llion Jones, Aidan N. Gomez, Lukasz Kaiser, Illia Polosukhin\n",
    "We propose a new simple network architecture, the Transformer, based solely on attention mechanisms, dispensing with recurrence and convolutions entirely.\n",
    "\"\"\"\n",
    "resp = react_chat.send_message(observation, generation_config=config, request_options=retry_policy)\n",
    "print(resp.text)"
   ]
  },
  {
   "cell_type": "markdown",
   "id": "d2153621",
   "metadata": {
    "id": "bo0tzf4nX6dA",
    "papermill": {
     "duration": 0.015901,
     "end_time": "2024-11-15T12:15:08.818355",
     "exception": false,
     "start_time": "2024-11-15T12:15:08.802454",
     "status": "completed"
    },
    "tags": []
   },
   "source": [
    "This process repeats until the `<finish>` action is reached. You can continue running this yourself if you like, or try the [Wikipedia example](https://github.com/google-gemini/cookbook/blob/main/examples/Search_Wikipedia_using_ReAct.ipynb) to see a fully automated ReAct system at work."
   ]
  },
  {
   "cell_type": "markdown",
   "id": "8e434200",
   "metadata": {
    "id": "jPiZ_eIIaVPt",
    "papermill": {
     "duration": 0.01555,
     "end_time": "2024-11-15T12:15:08.849684",
     "exception": false,
     "start_time": "2024-11-15T12:15:08.834134",
     "status": "completed"
    },
    "tags": []
   },
   "source": [
    "## Code prompting"
   ]
  },
  {
   "cell_type": "markdown",
   "id": "aff5b5fd",
   "metadata": {
    "id": "ZinKamwXeR6C",
    "papermill": {
     "duration": 0.015496,
     "end_time": "2024-11-15T12:15:08.881029",
     "exception": false,
     "start_time": "2024-11-15T12:15:08.865533",
     "status": "completed"
    },
    "tags": []
   },
   "source": [
    "### Generating code\n",
    "\n",
    "The Gemini family of models can be used to generate code, configuration and scripts. Generating code can be helpful when learning to code, learning a new language or for rapidly generating a first draft.\n",
    "\n",
    "It's important to be aware that since LLMs can't reason, and can repeat training data, it's essential to read and test your code first, and comply with any relevant licenses.\n",
    "\n",
    "<table align=left>\n",
    "  <td>\n",
    "    <a target=\"_blank\" href=\"https://aistudio.google.com/prompts/1YX71JGtzDjXQkgdes8bP6i3oH5lCRKxv\"><img src=\"https://ai.google.dev/site-assets/images/marketing/home/icon-ais.png\" style=\"height: 24px\" height=24/> Open in AI Studio</a>\n",
    "  </td>\n",
    "</table>"
   ]
  },
  {
   "cell_type": "code",
   "execution_count": 27,
   "id": "aaae828b",
   "metadata": {
    "execution": {
     "iopub.execute_input": "2024-11-15T12:15:08.914782Z",
     "iopub.status.busy": "2024-11-15T12:15:08.913941Z",
     "iopub.status.idle": "2024-11-15T12:15:09.470757Z",
     "shell.execute_reply": "2024-11-15T12:15:09.469708Z"
    },
    "id": "fOQP9pqmeUO1",
    "papermill": {
     "duration": 0.57628,
     "end_time": "2024-11-15T12:15:09.473223",
     "exception": false,
     "start_time": "2024-11-15T12:15:08.896943",
     "status": "completed"
    },
    "tags": []
   },
   "outputs": [
    {
     "data": {
      "text/markdown": [
       "```python\n",
       "def factorial(n):\n",
       "  if n == 0:\n",
       "    return 1\n",
       "  else:\n",
       "    return n * factorial(n-1)\n",
       "```"
      ],
      "text/plain": [
       "<IPython.core.display.Markdown object>"
      ]
     },
     "execution_count": 27,
     "metadata": {},
     "output_type": "execute_result"
    }
   ],
   "source": [
    "model = genai.GenerativeModel(\n",
    "    'gemini-1.5-flash-latest',\n",
    "    generation_config=genai.GenerationConfig(\n",
    "        temperature=1,\n",
    "        top_p=1,\n",
    "        max_output_tokens=1024,\n",
    "    ))\n",
    "\n",
    "# Gemini 1.5 models are very chatty, so it helps to specify they stick to the code.\n",
    "code_prompt = \"\"\"\n",
    "Write a Python function to calculate the factorial of a number. No explanation, provide only the code.\n",
    "\"\"\"\n",
    "\n",
    "response = model.generate_content(code_prompt, request_options=retry_policy)\n",
    "Markdown(response.text)"
   ]
  },
  {
   "cell_type": "markdown",
   "id": "992f4219",
   "metadata": {
    "id": "wlBMWSFhgVRQ",
    "papermill": {
     "duration": 0.015607,
     "end_time": "2024-11-15T12:15:09.504903",
     "exception": false,
     "start_time": "2024-11-15T12:15:09.489296",
     "status": "completed"
    },
    "tags": []
   },
   "source": [
    "### Code execution\n",
    "\n",
    "The Gemini API can automatically run generated code too, and will return the output.\n",
    "\n",
    "<table align=left>\n",
    "  <td>\n",
    "    <a target=\"_blank\" href=\"https://aistudio.google.com/prompts/11veFr_VYEwBWcLkhNLr-maCG0G8sS_7Z\"><img src=\"https://ai.google.dev/site-assets/images/marketing/home/icon-ais.png\" style=\"height: 24px\" height=24/> Open in AI Studio</a>\n",
    "  </td>\n",
    "</table>"
   ]
  },
  {
   "cell_type": "code",
   "execution_count": 28,
   "id": "472802bf",
   "metadata": {
    "execution": {
     "iopub.execute_input": "2024-11-15T12:15:09.538713Z",
     "iopub.status.busy": "2024-11-15T12:15:09.538282Z",
     "iopub.status.idle": "2024-11-15T12:19:44.450105Z",
     "shell.execute_reply": "2024-11-15T12:19:44.448390Z"
    },
    "id": "jT3OfWYfhjRL",
    "papermill": {
     "duration": 274.948404,
     "end_time": "2024-11-15T12:19:44.469250",
     "exception": true,
     "start_time": "2024-11-15T12:15:09.520846",
     "status": "failed"
    },
    "tags": []
   },
   "outputs": [
    {
     "ename": "RetryError",
     "evalue": "Timeout of 300.0s exceeded, last exception: 500 An internal error has occurred. Please retry or report in https://developers.generativeai.google/guide/troubleshooting",
     "output_type": "error",
     "traceback": [
      "\u001b[0;31m---------------------------------------------------------------------------\u001b[0m",
      "\u001b[0;31m_InactiveRpcError\u001b[0m                         Traceback (most recent call last)",
      "File \u001b[0;32m/opt/conda/lib/python3.10/site-packages/google/api_core/grpc_helpers.py:76\u001b[0m, in \u001b[0;36m_wrap_unary_errors.<locals>.error_remapped_callable\u001b[0;34m(*args, **kwargs)\u001b[0m\n\u001b[1;32m     75\u001b[0m \u001b[38;5;28;01mtry\u001b[39;00m:\n\u001b[0;32m---> 76\u001b[0m     \u001b[38;5;28;01mreturn\u001b[39;00m \u001b[43mcallable_\u001b[49m\u001b[43m(\u001b[49m\u001b[38;5;241;43m*\u001b[39;49m\u001b[43margs\u001b[49m\u001b[43m,\u001b[49m\u001b[43m \u001b[49m\u001b[38;5;241;43m*\u001b[39;49m\u001b[38;5;241;43m*\u001b[39;49m\u001b[43mkwargs\u001b[49m\u001b[43m)\u001b[49m\n\u001b[1;32m     77\u001b[0m \u001b[38;5;28;01mexcept\u001b[39;00m grpc\u001b[38;5;241m.\u001b[39mRpcError \u001b[38;5;28;01mas\u001b[39;00m exc:\n",
      "File \u001b[0;32m/opt/conda/lib/python3.10/site-packages/grpc/_channel.py:1181\u001b[0m, in \u001b[0;36m_UnaryUnaryMultiCallable.__call__\u001b[0;34m(self, request, timeout, metadata, credentials, wait_for_ready, compression)\u001b[0m\n\u001b[1;32m   1175\u001b[0m (\n\u001b[1;32m   1176\u001b[0m     state,\n\u001b[1;32m   1177\u001b[0m     call,\n\u001b[1;32m   1178\u001b[0m ) \u001b[38;5;241m=\u001b[39m \u001b[38;5;28mself\u001b[39m\u001b[38;5;241m.\u001b[39m_blocking(\n\u001b[1;32m   1179\u001b[0m     request, timeout, metadata, credentials, wait_for_ready, compression\n\u001b[1;32m   1180\u001b[0m )\n\u001b[0;32m-> 1181\u001b[0m \u001b[38;5;28;01mreturn\u001b[39;00m \u001b[43m_end_unary_response_blocking\u001b[49m\u001b[43m(\u001b[49m\u001b[43mstate\u001b[49m\u001b[43m,\u001b[49m\u001b[43m \u001b[49m\u001b[43mcall\u001b[49m\u001b[43m,\u001b[49m\u001b[43m \u001b[49m\u001b[38;5;28;43;01mFalse\u001b[39;49;00m\u001b[43m,\u001b[49m\u001b[43m \u001b[49m\u001b[38;5;28;43;01mNone\u001b[39;49;00m\u001b[43m)\u001b[49m\n",
      "File \u001b[0;32m/opt/conda/lib/python3.10/site-packages/grpc/_channel.py:1006\u001b[0m, in \u001b[0;36m_end_unary_response_blocking\u001b[0;34m(state, call, with_call, deadline)\u001b[0m\n\u001b[1;32m   1005\u001b[0m \u001b[38;5;28;01melse\u001b[39;00m:\n\u001b[0;32m-> 1006\u001b[0m     \u001b[38;5;28;01mraise\u001b[39;00m _InactiveRpcError(state)\n",
      "\u001b[0;31m_InactiveRpcError\u001b[0m: <_InactiveRpcError of RPC that terminated with:\n\tstatus = StatusCode.INTERNAL\n\tdetails = \"An internal error has occurred. Please retry or report in https://developers.generativeai.google/guide/troubleshooting\"\n\tdebug_error_string = \"UNKNOWN:Error received from peer ipv4:34.128.171.17:443 {grpc_message:\"An internal error has occurred. Please retry or report in https://developers.generativeai.google/guide/troubleshooting\", grpc_status:13, created_time:\"2024-11-15T12:19:43.537837171+00:00\"}\"\n>",
      "\nThe above exception was the direct cause of the following exception:\n",
      "\u001b[0;31mInternalServerError\u001b[0m                       Traceback (most recent call last)",
      "File \u001b[0;32m/opt/conda/lib/python3.10/site-packages/google/api_core/retry/retry_unary.py:144\u001b[0m, in \u001b[0;36mretry_target\u001b[0;34m(target, predicate, sleep_generator, timeout, on_error, exception_factory, **kwargs)\u001b[0m\n\u001b[1;32m    143\u001b[0m \u001b[38;5;28;01mtry\u001b[39;00m:\n\u001b[0;32m--> 144\u001b[0m     result \u001b[38;5;241m=\u001b[39m \u001b[43mtarget\u001b[49m\u001b[43m(\u001b[49m\u001b[43m)\u001b[49m\n\u001b[1;32m    145\u001b[0m     \u001b[38;5;28;01mif\u001b[39;00m inspect\u001b[38;5;241m.\u001b[39misawaitable(result):\n",
      "File \u001b[0;32m/opt/conda/lib/python3.10/site-packages/google/api_core/timeout.py:120\u001b[0m, in \u001b[0;36mTimeToDeadlineTimeout.__call__.<locals>.func_with_timeout\u001b[0;34m(*args, **kwargs)\u001b[0m\n\u001b[1;32m    118\u001b[0m     kwargs[\u001b[38;5;124m\"\u001b[39m\u001b[38;5;124mtimeout\u001b[39m\u001b[38;5;124m\"\u001b[39m] \u001b[38;5;241m=\u001b[39m \u001b[38;5;28mmax\u001b[39m(\u001b[38;5;241m0\u001b[39m, \u001b[38;5;28mself\u001b[39m\u001b[38;5;241m.\u001b[39m_timeout \u001b[38;5;241m-\u001b[39m time_since_first_attempt)\n\u001b[0;32m--> 120\u001b[0m \u001b[38;5;28;01mreturn\u001b[39;00m \u001b[43mfunc\u001b[49m\u001b[43m(\u001b[49m\u001b[38;5;241;43m*\u001b[39;49m\u001b[43margs\u001b[49m\u001b[43m,\u001b[49m\u001b[43m \u001b[49m\u001b[38;5;241;43m*\u001b[39;49m\u001b[38;5;241;43m*\u001b[39;49m\u001b[43mkwargs\u001b[49m\u001b[43m)\u001b[49m\n",
      "File \u001b[0;32m/opt/conda/lib/python3.10/site-packages/google/api_core/grpc_helpers.py:78\u001b[0m, in \u001b[0;36m_wrap_unary_errors.<locals>.error_remapped_callable\u001b[0;34m(*args, **kwargs)\u001b[0m\n\u001b[1;32m     77\u001b[0m \u001b[38;5;28;01mexcept\u001b[39;00m grpc\u001b[38;5;241m.\u001b[39mRpcError \u001b[38;5;28;01mas\u001b[39;00m exc:\n\u001b[0;32m---> 78\u001b[0m     \u001b[38;5;28;01mraise\u001b[39;00m exceptions\u001b[38;5;241m.\u001b[39mfrom_grpc_error(exc) \u001b[38;5;28;01mfrom\u001b[39;00m \u001b[38;5;21;01mexc\u001b[39;00m\n",
      "\u001b[0;31mInternalServerError\u001b[0m: 500 An internal error has occurred. Please retry or report in https://developers.generativeai.google/guide/troubleshooting",
      "\nThe above exception was the direct cause of the following exception:\n",
      "\u001b[0;31mRetryError\u001b[0m                                Traceback (most recent call last)",
      "Cell \u001b[0;32mIn[28], line 9\u001b[0m\n\u001b[1;32m      1\u001b[0m model \u001b[38;5;241m=\u001b[39m genai\u001b[38;5;241m.\u001b[39mGenerativeModel(\n\u001b[1;32m      2\u001b[0m     \u001b[38;5;124m'\u001b[39m\u001b[38;5;124mgemini-1.5-flash-latest\u001b[39m\u001b[38;5;124m'\u001b[39m,\n\u001b[1;32m      3\u001b[0m     tools\u001b[38;5;241m=\u001b[39m\u001b[38;5;124m'\u001b[39m\u001b[38;5;124mcode_execution\u001b[39m\u001b[38;5;124m'\u001b[39m,)\n\u001b[1;32m      5\u001b[0m code_exec_prompt \u001b[38;5;241m=\u001b[39m \u001b[38;5;124m\"\"\"\u001b[39m\n\u001b[1;32m      6\u001b[0m \u001b[38;5;124mCalculate the sum of the first 14 prime numbers. Only consider the odd primes, and make sure you count them all.\u001b[39m\n\u001b[1;32m      7\u001b[0m \u001b[38;5;124m\"\"\"\u001b[39m\n\u001b[0;32m----> 9\u001b[0m response \u001b[38;5;241m=\u001b[39m \u001b[43mmodel\u001b[49m\u001b[38;5;241;43m.\u001b[39;49m\u001b[43mgenerate_content\u001b[49m\u001b[43m(\u001b[49m\u001b[43mcode_exec_prompt\u001b[49m\u001b[43m,\u001b[49m\u001b[43m \u001b[49m\u001b[43mrequest_options\u001b[49m\u001b[38;5;241;43m=\u001b[39;49m\u001b[43mretry_policy\u001b[49m\u001b[43m)\u001b[49m\n\u001b[1;32m     10\u001b[0m Markdown(response\u001b[38;5;241m.\u001b[39mtext)\n",
      "File \u001b[0;32m/opt/conda/lib/python3.10/site-packages/google/generativeai/generative_models.py:331\u001b[0m, in \u001b[0;36mGenerativeModel.generate_content\u001b[0;34m(self, contents, generation_config, safety_settings, stream, tools, tool_config, request_options)\u001b[0m\n\u001b[1;32m    329\u001b[0m         \u001b[38;5;28;01mreturn\u001b[39;00m generation_types\u001b[38;5;241m.\u001b[39mGenerateContentResponse\u001b[38;5;241m.\u001b[39mfrom_iterator(iterator)\n\u001b[1;32m    330\u001b[0m     \u001b[38;5;28;01melse\u001b[39;00m:\n\u001b[0;32m--> 331\u001b[0m         response \u001b[38;5;241m=\u001b[39m \u001b[38;5;28;43mself\u001b[39;49m\u001b[38;5;241;43m.\u001b[39;49m\u001b[43m_client\u001b[49m\u001b[38;5;241;43m.\u001b[39;49m\u001b[43mgenerate_content\u001b[49m\u001b[43m(\u001b[49m\n\u001b[1;32m    332\u001b[0m \u001b[43m            \u001b[49m\u001b[43mrequest\u001b[49m\u001b[43m,\u001b[49m\n\u001b[1;32m    333\u001b[0m \u001b[43m            \u001b[49m\u001b[38;5;241;43m*\u001b[39;49m\u001b[38;5;241;43m*\u001b[39;49m\u001b[43mrequest_options\u001b[49m\u001b[43m,\u001b[49m\n\u001b[1;32m    334\u001b[0m \u001b[43m        \u001b[49m\u001b[43m)\u001b[49m\n\u001b[1;32m    335\u001b[0m         \u001b[38;5;28;01mreturn\u001b[39;00m generation_types\u001b[38;5;241m.\u001b[39mGenerateContentResponse\u001b[38;5;241m.\u001b[39mfrom_response(response)\n\u001b[1;32m    336\u001b[0m \u001b[38;5;28;01mexcept\u001b[39;00m google\u001b[38;5;241m.\u001b[39mapi_core\u001b[38;5;241m.\u001b[39mexceptions\u001b[38;5;241m.\u001b[39mInvalidArgument \u001b[38;5;28;01mas\u001b[39;00m e:\n",
      "File \u001b[0;32m/opt/conda/lib/python3.10/site-packages/google/generativeai/client.py:267\u001b[0m, in \u001b[0;36m_ClientManager.make_client.<locals>.add_default_metadata_wrapper.<locals>.call\u001b[0;34m(metadata, *args, **kwargs)\u001b[0m\n\u001b[1;32m    265\u001b[0m \u001b[38;5;28;01mdef\u001b[39;00m \u001b[38;5;21mcall\u001b[39m(\u001b[38;5;241m*\u001b[39margs, metadata\u001b[38;5;241m=\u001b[39m(), \u001b[38;5;241m*\u001b[39m\u001b[38;5;241m*\u001b[39mkwargs):\n\u001b[1;32m    266\u001b[0m     metadata \u001b[38;5;241m=\u001b[39m \u001b[38;5;28mlist\u001b[39m(metadata) \u001b[38;5;241m+\u001b[39m \u001b[38;5;28mlist\u001b[39m(\u001b[38;5;28mself\u001b[39m\u001b[38;5;241m.\u001b[39mdefault_metadata)\n\u001b[0;32m--> 267\u001b[0m     \u001b[38;5;28;01mreturn\u001b[39;00m \u001b[43mf\u001b[49m\u001b[43m(\u001b[49m\u001b[38;5;241;43m*\u001b[39;49m\u001b[43margs\u001b[49m\u001b[43m,\u001b[49m\u001b[43m \u001b[49m\u001b[38;5;241;43m*\u001b[39;49m\u001b[38;5;241;43m*\u001b[39;49m\u001b[43mkwargs\u001b[49m\u001b[43m,\u001b[49m\u001b[43m \u001b[49m\u001b[43mmetadata\u001b[49m\u001b[38;5;241;43m=\u001b[39;49m\u001b[43mmetadata\u001b[49m\u001b[43m)\u001b[49m\n",
      "File \u001b[0;32m/opt/conda/lib/python3.10/site-packages/google/ai/generativelanguage_v1beta/services/generative_service/client.py:830\u001b[0m, in \u001b[0;36mGenerativeServiceClient.generate_content\u001b[0;34m(self, request, model, contents, retry, timeout, metadata)\u001b[0m\n\u001b[1;32m    827\u001b[0m \u001b[38;5;28mself\u001b[39m\u001b[38;5;241m.\u001b[39m_validate_universe_domain()\n\u001b[1;32m    829\u001b[0m \u001b[38;5;66;03m# Send the request.\u001b[39;00m\n\u001b[0;32m--> 830\u001b[0m response \u001b[38;5;241m=\u001b[39m \u001b[43mrpc\u001b[49m\u001b[43m(\u001b[49m\n\u001b[1;32m    831\u001b[0m \u001b[43m    \u001b[49m\u001b[43mrequest\u001b[49m\u001b[43m,\u001b[49m\n\u001b[1;32m    832\u001b[0m \u001b[43m    \u001b[49m\u001b[43mretry\u001b[49m\u001b[38;5;241;43m=\u001b[39;49m\u001b[43mretry\u001b[49m\u001b[43m,\u001b[49m\n\u001b[1;32m    833\u001b[0m \u001b[43m    \u001b[49m\u001b[43mtimeout\u001b[49m\u001b[38;5;241;43m=\u001b[39;49m\u001b[43mtimeout\u001b[49m\u001b[43m,\u001b[49m\n\u001b[1;32m    834\u001b[0m \u001b[43m    \u001b[49m\u001b[43mmetadata\u001b[49m\u001b[38;5;241;43m=\u001b[39;49m\u001b[43mmetadata\u001b[49m\u001b[43m,\u001b[49m\n\u001b[1;32m    835\u001b[0m \u001b[43m\u001b[49m\u001b[43m)\u001b[49m\n\u001b[1;32m    837\u001b[0m \u001b[38;5;66;03m# Done; return the response.\u001b[39;00m\n\u001b[1;32m    838\u001b[0m \u001b[38;5;28;01mreturn\u001b[39;00m response\n",
      "File \u001b[0;32m/opt/conda/lib/python3.10/site-packages/google/api_core/gapic_v1/method.py:131\u001b[0m, in \u001b[0;36m_GapicCallable.__call__\u001b[0;34m(self, timeout, retry, compression, *args, **kwargs)\u001b[0m\n\u001b[1;32m    128\u001b[0m \u001b[38;5;28;01mif\u001b[39;00m \u001b[38;5;28mself\u001b[39m\u001b[38;5;241m.\u001b[39m_compression \u001b[38;5;129;01mis\u001b[39;00m \u001b[38;5;129;01mnot\u001b[39;00m \u001b[38;5;28;01mNone\u001b[39;00m:\n\u001b[1;32m    129\u001b[0m     kwargs[\u001b[38;5;124m\"\u001b[39m\u001b[38;5;124mcompression\u001b[39m\u001b[38;5;124m\"\u001b[39m] \u001b[38;5;241m=\u001b[39m compression\n\u001b[0;32m--> 131\u001b[0m \u001b[38;5;28;01mreturn\u001b[39;00m \u001b[43mwrapped_func\u001b[49m\u001b[43m(\u001b[49m\u001b[38;5;241;43m*\u001b[39;49m\u001b[43margs\u001b[49m\u001b[43m,\u001b[49m\u001b[43m \u001b[49m\u001b[38;5;241;43m*\u001b[39;49m\u001b[38;5;241;43m*\u001b[39;49m\u001b[43mkwargs\u001b[49m\u001b[43m)\u001b[49m\n",
      "File \u001b[0;32m/opt/conda/lib/python3.10/site-packages/google/api_core/retry/retry_unary.py:293\u001b[0m, in \u001b[0;36mRetry.__call__.<locals>.retry_wrapped_func\u001b[0;34m(*args, **kwargs)\u001b[0m\n\u001b[1;32m    289\u001b[0m target \u001b[38;5;241m=\u001b[39m functools\u001b[38;5;241m.\u001b[39mpartial(func, \u001b[38;5;241m*\u001b[39margs, \u001b[38;5;241m*\u001b[39m\u001b[38;5;241m*\u001b[39mkwargs)\n\u001b[1;32m    290\u001b[0m sleep_generator \u001b[38;5;241m=\u001b[39m exponential_sleep_generator(\n\u001b[1;32m    291\u001b[0m     \u001b[38;5;28mself\u001b[39m\u001b[38;5;241m.\u001b[39m_initial, \u001b[38;5;28mself\u001b[39m\u001b[38;5;241m.\u001b[39m_maximum, multiplier\u001b[38;5;241m=\u001b[39m\u001b[38;5;28mself\u001b[39m\u001b[38;5;241m.\u001b[39m_multiplier\n\u001b[1;32m    292\u001b[0m )\n\u001b[0;32m--> 293\u001b[0m \u001b[38;5;28;01mreturn\u001b[39;00m \u001b[43mretry_target\u001b[49m\u001b[43m(\u001b[49m\n\u001b[1;32m    294\u001b[0m \u001b[43m    \u001b[49m\u001b[43mtarget\u001b[49m\u001b[43m,\u001b[49m\n\u001b[1;32m    295\u001b[0m \u001b[43m    \u001b[49m\u001b[38;5;28;43mself\u001b[39;49m\u001b[38;5;241;43m.\u001b[39;49m\u001b[43m_predicate\u001b[49m\u001b[43m,\u001b[49m\n\u001b[1;32m    296\u001b[0m \u001b[43m    \u001b[49m\u001b[43msleep_generator\u001b[49m\u001b[43m,\u001b[49m\n\u001b[1;32m    297\u001b[0m \u001b[43m    \u001b[49m\u001b[43mtimeout\u001b[49m\u001b[38;5;241;43m=\u001b[39;49m\u001b[38;5;28;43mself\u001b[39;49m\u001b[38;5;241;43m.\u001b[39;49m\u001b[43m_timeout\u001b[49m\u001b[43m,\u001b[49m\n\u001b[1;32m    298\u001b[0m \u001b[43m    \u001b[49m\u001b[43mon_error\u001b[49m\u001b[38;5;241;43m=\u001b[39;49m\u001b[43mon_error\u001b[49m\u001b[43m,\u001b[49m\n\u001b[1;32m    299\u001b[0m \u001b[43m\u001b[49m\u001b[43m)\u001b[49m\n",
      "File \u001b[0;32m/opt/conda/lib/python3.10/site-packages/google/api_core/retry/retry_unary.py:153\u001b[0m, in \u001b[0;36mretry_target\u001b[0;34m(target, predicate, sleep_generator, timeout, on_error, exception_factory, **kwargs)\u001b[0m\n\u001b[1;32m    149\u001b[0m \u001b[38;5;66;03m# pylint: disable=broad-except\u001b[39;00m\n\u001b[1;32m    150\u001b[0m \u001b[38;5;66;03m# This function explicitly must deal with broad exceptions.\u001b[39;00m\n\u001b[1;32m    151\u001b[0m \u001b[38;5;28;01mexcept\u001b[39;00m \u001b[38;5;167;01mException\u001b[39;00m \u001b[38;5;28;01mas\u001b[39;00m exc:\n\u001b[1;32m    152\u001b[0m     \u001b[38;5;66;03m# defer to shared logic for handling errors\u001b[39;00m\n\u001b[0;32m--> 153\u001b[0m     \u001b[43m_retry_error_helper\u001b[49m\u001b[43m(\u001b[49m\n\u001b[1;32m    154\u001b[0m \u001b[43m        \u001b[49m\u001b[43mexc\u001b[49m\u001b[43m,\u001b[49m\n\u001b[1;32m    155\u001b[0m \u001b[43m        \u001b[49m\u001b[43mdeadline\u001b[49m\u001b[43m,\u001b[49m\n\u001b[1;32m    156\u001b[0m \u001b[43m        \u001b[49m\u001b[43msleep\u001b[49m\u001b[43m,\u001b[49m\n\u001b[1;32m    157\u001b[0m \u001b[43m        \u001b[49m\u001b[43merror_list\u001b[49m\u001b[43m,\u001b[49m\n\u001b[1;32m    158\u001b[0m \u001b[43m        \u001b[49m\u001b[43mpredicate\u001b[49m\u001b[43m,\u001b[49m\n\u001b[1;32m    159\u001b[0m \u001b[43m        \u001b[49m\u001b[43mon_error\u001b[49m\u001b[43m,\u001b[49m\n\u001b[1;32m    160\u001b[0m \u001b[43m        \u001b[49m\u001b[43mexception_factory\u001b[49m\u001b[43m,\u001b[49m\n\u001b[1;32m    161\u001b[0m \u001b[43m        \u001b[49m\u001b[43mtimeout\u001b[49m\u001b[43m,\u001b[49m\n\u001b[1;32m    162\u001b[0m \u001b[43m    \u001b[49m\u001b[43m)\u001b[49m\n\u001b[1;32m    163\u001b[0m     \u001b[38;5;66;03m# if exception not raised, sleep before next attempt\u001b[39;00m\n\u001b[1;32m    164\u001b[0m     time\u001b[38;5;241m.\u001b[39msleep(sleep)\n",
      "File \u001b[0;32m/opt/conda/lib/python3.10/site-packages/google/api_core/retry/retry_base.py:221\u001b[0m, in \u001b[0;36m_retry_error_helper\u001b[0;34m(exc, deadline, next_sleep, error_list, predicate_fn, on_error_fn, exc_factory_fn, original_timeout)\u001b[0m\n\u001b[1;32m    215\u001b[0m \u001b[38;5;28;01mif\u001b[39;00m deadline \u001b[38;5;129;01mis\u001b[39;00m \u001b[38;5;129;01mnot\u001b[39;00m \u001b[38;5;28;01mNone\u001b[39;00m \u001b[38;5;129;01mand\u001b[39;00m time\u001b[38;5;241m.\u001b[39mmonotonic() \u001b[38;5;241m+\u001b[39m next_sleep \u001b[38;5;241m>\u001b[39m deadline:\n\u001b[1;32m    216\u001b[0m     final_exc, source_exc \u001b[38;5;241m=\u001b[39m exc_factory_fn(\n\u001b[1;32m    217\u001b[0m         error_list,\n\u001b[1;32m    218\u001b[0m         RetryFailureReason\u001b[38;5;241m.\u001b[39mTIMEOUT,\n\u001b[1;32m    219\u001b[0m         original_timeout,\n\u001b[1;32m    220\u001b[0m     )\n\u001b[0;32m--> 221\u001b[0m     \u001b[38;5;28;01mraise\u001b[39;00m final_exc \u001b[38;5;28;01mfrom\u001b[39;00m \u001b[38;5;21;01msource_exc\u001b[39;00m\n\u001b[1;32m    222\u001b[0m _LOGGER\u001b[38;5;241m.\u001b[39mdebug(\n\u001b[1;32m    223\u001b[0m     \u001b[38;5;124m\"\u001b[39m\u001b[38;5;124mRetrying due to \u001b[39m\u001b[38;5;132;01m{}\u001b[39;00m\u001b[38;5;124m, sleeping \u001b[39m\u001b[38;5;132;01m{:.1f}\u001b[39;00m\u001b[38;5;124ms ...\u001b[39m\u001b[38;5;124m\"\u001b[39m\u001b[38;5;241m.\u001b[39mformat(error_list[\u001b[38;5;241m-\u001b[39m\u001b[38;5;241m1\u001b[39m], next_sleep)\n\u001b[1;32m    224\u001b[0m )\n",
      "\u001b[0;31mRetryError\u001b[0m: Timeout of 300.0s exceeded, last exception: 500 An internal error has occurred. Please retry or report in https://developers.generativeai.google/guide/troubleshooting"
     ]
    }
   ],
   "source": [
    "model = genai.GenerativeModel(\n",
    "    'gemini-1.5-flash-latest',\n",
    "    tools='code_execution',)\n",
    "\n",
    "code_exec_prompt = \"\"\"\n",
    "Calculate the sum of the first 14 prime numbers. Only consider the odd primes, and make sure you count them all.\n",
    "\"\"\"\n",
    "\n",
    "response = model.generate_content(code_exec_prompt, request_options=retry_policy)\n",
    "Markdown(response.text)"
   ]
  },
  {
   "cell_type": "markdown",
   "id": "588ffcf8",
   "metadata": {
    "id": "ZspT1GSkjG6d",
    "papermill": {
     "duration": null,
     "end_time": null,
     "exception": null,
     "start_time": null,
     "status": "pending"
    },
    "tags": []
   },
   "source": [
    "While this looks like a single-part response, you can inspect the response to see the each of the steps: initial text, code generation, execution results, and final text summary."
   ]
  },
  {
   "cell_type": "code",
   "execution_count": null,
   "id": "c5e061f2",
   "metadata": {
    "execution": {
     "iopub.execute_input": "2024-11-15T12:12:04.984638Z",
     "iopub.status.busy": "2024-11-15T12:12:04.983100Z",
     "iopub.status.idle": "2024-11-15T12:12:04.990970Z",
     "shell.execute_reply": "2024-11-15T12:12:04.989613Z",
     "shell.execute_reply.started": "2024-11-15T12:12:04.984587Z"
    },
    "id": "j4gQVzcRjRX-",
    "papermill": {
     "duration": null,
     "end_time": null,
     "exception": null,
     "start_time": null,
     "status": "pending"
    },
    "tags": []
   },
   "outputs": [],
   "source": [
    "for part in response.candidates[0].content.parts:\n",
    "  print(part)\n",
    "  print(\"-----\")"
   ]
  },
  {
   "cell_type": "markdown",
   "id": "5e9b0f74",
   "metadata": {
    "id": "1gUX8QzCj4d5",
    "papermill": {
     "duration": null,
     "end_time": null,
     "exception": null,
     "start_time": null,
     "status": "pending"
    },
    "tags": []
   },
   "source": [
    "### Explaining code\n",
    "\n",
    "The Gemini family of models can explain code to you too.\n",
    "\n",
    "<table align=left>\n",
    "  <td>\n",
    "    <a target=\"_blank\" href=\"https://aistudio.google.com/prompts/1N7LGzWzCYieyOf_7bAG4plrmkpDNmUyb\"><img src=\"https://ai.google.dev/site-assets/images/marketing/home/icon-ais.png\" style=\"height: 24px\" height=24/> Open in AI Studio</a>\n",
    "  </td>\n",
    "</table>"
   ]
  },
  {
   "cell_type": "code",
   "execution_count": null,
   "id": "863c55a5",
   "metadata": {
    "execution": {
     "iopub.execute_input": "2024-11-15T12:12:40.662474Z",
     "iopub.status.busy": "2024-11-15T12:12:40.661919Z",
     "iopub.status.idle": "2024-11-15T12:12:43.894676Z",
     "shell.execute_reply": "2024-11-15T12:12:43.893533Z",
     "shell.execute_reply.started": "2024-11-15T12:12:40.662424Z"
    },
    "id": "7_jPMMoxkIEb",
    "papermill": {
     "duration": null,
     "end_time": null,
     "exception": null,
     "start_time": null,
     "status": "pending"
    },
    "tags": []
   },
   "outputs": [],
   "source": [
    "file_contents = !curl https://raw.githubusercontent.com/magicmonty/bash-git-prompt/refs/heads/master/gitprompt.sh\n",
    "\n",
    "explain_prompt = f\"\"\"\n",
    "Please explain what this file does at a very high level. What is it, and why would I use it?\n",
    "\n",
    "```\n",
    "{file_contents}\n",
    "```\n",
    "\"\"\"\n",
    "\n",
    "model = genai.GenerativeModel('gemini-1.5-flash-latest')\n",
    "\n",
    "response = model.generate_content(explain_prompt, request_options=retry_policy)\n",
    "Markdown(response.text)"
   ]
  },
  {
   "cell_type": "markdown",
   "id": "75d41107",
   "metadata": {
    "id": "2a8266d97ce5",
    "papermill": {
     "duration": null,
     "end_time": null,
     "exception": null,
     "start_time": null,
     "status": "pending"
    },
    "tags": []
   },
   "source": [
    "## Learn more\n",
    "\n",
    "To learn more about prompting in depth:\n",
    "\n",
    "* Check out the whitepaper issued with today's content,\n",
    "* Try out the apps listed at the top of this notebook ([TextFX](https://textfx.withgoogle.com/), [SQL Talk](https://sql-talk-r5gdynozbq-uc.a.run.app/) and [NotebookLM](https://notebooklm.google/)),\n",
    "* Read the [Introduction to Prompting](https://ai.google.dev/gemini-api/docs/prompting-intro) from the Gemini API docs,\n",
    "* Explore the Gemini API's [prompt gallery](https://ai.google.dev/gemini-api/prompts) and try them out in AI Studio,\n",
    "* Check out the Gemini API cookbook for [inspirational examples](https://github.com/google-gemini/cookbook/blob/main/examples/) and [educational quickstarts](https://github.com/google-gemini/cookbook/blob/main/quickstarts/).\n",
    "\n",
    "And please share anything exciting you have tried in the Discord!"
   ]
  }
 ],
 "metadata": {
  "colab": {
   "name": "day-1-prompting.ipynb",
   "toc_visible": true
  },
  "kaggle": {
   "accelerator": "none",
   "dataSources": [],
   "dockerImageVersionId": 30786,
   "isGpuEnabled": false,
   "isInternetEnabled": true,
   "language": "python",
   "sourceType": "notebook"
  },
  "kernelspec": {
   "display_name": "Python 3",
   "language": "python",
   "name": "python3"
  },
  "language_info": {
   "codemirror_mode": {
    "name": "ipython",
    "version": 3
   },
   "file_extension": ".py",
   "mimetype": "text/x-python",
   "name": "python",
   "nbconvert_exporter": "python",
   "pygments_lexer": "ipython3",
   "version": "3.10.14"
  },
  "papermill": {
   "default_parameters": {},
   "duration": 369.947914,
   "end_time": "2024-11-15T12:19:45.207556",
   "environment_variables": {},
   "exception": true,
   "input_path": "__notebook__.ipynb",
   "output_path": "__notebook__.ipynb",
   "parameters": {},
   "start_time": "2024-11-15T12:13:35.259642",
   "version": "2.6.0"
  }
 },
 "nbformat": 4,
 "nbformat_minor": 5
}
